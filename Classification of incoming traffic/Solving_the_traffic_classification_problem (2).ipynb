{
  "cells": [
    {
      "cell_type": "markdown",
      "metadata": {
        "id": "fRcIJaH4DP_i"
      },
      "source": [
        "# Импорты"
      ]
    },
    {
      "cell_type": "code",
      "execution_count": null,
      "metadata": {
        "colab": {
          "base_uri": "https://localhost:8080/"
        },
        "id": "lR2ngrNoL9SB",
        "outputId": "d0618651-473c-4a63-a0bd-b80dbe0bd8c5"
      },
      "outputs": [
        {
          "name": "stdout",
          "output_type": "stream",
          "text": [
            "Requirement already satisfied: gdown in /usr/local/lib/python3.10/dist-packages (4.6.6)\n",
            "Requirement already satisfied: filelock in /usr/local/lib/python3.10/dist-packages (from gdown) (3.12.4)\n",
            "Requirement already satisfied: requests[socks] in /usr/local/lib/python3.10/dist-packages (from gdown) (2.31.0)\n",
            "Requirement already satisfied: six in /usr/local/lib/python3.10/dist-packages (from gdown) (1.16.0)\n",
            "Requirement already satisfied: tqdm in /usr/local/lib/python3.10/dist-packages (from gdown) (4.66.1)\n",
            "Requirement already satisfied: beautifulsoup4 in /usr/local/lib/python3.10/dist-packages (from gdown) (4.11.2)\n",
            "Requirement already satisfied: soupsieve>1.2 in /usr/local/lib/python3.10/dist-packages (from beautifulsoup4->gdown) (2.5)\n",
            "Requirement already satisfied: charset-normalizer<4,>=2 in /usr/local/lib/python3.10/dist-packages (from requests[socks]->gdown) (3.3.0)\n",
            "Requirement already satisfied: idna<4,>=2.5 in /usr/local/lib/python3.10/dist-packages (from requests[socks]->gdown) (3.4)\n",
            "Requirement already satisfied: urllib3<3,>=1.21.1 in /usr/local/lib/python3.10/dist-packages (from requests[socks]->gdown) (2.0.6)\n",
            "Requirement already satisfied: certifi>=2017.4.17 in /usr/local/lib/python3.10/dist-packages (from requests[socks]->gdown) (2023.7.22)\n",
            "Requirement already satisfied: PySocks!=1.5.7,>=1.5.6 in /usr/local/lib/python3.10/dist-packages (from requests[socks]->gdown) (1.7.1)\n",
            "Collecting scikit-multilearn\n",
            "  Downloading scikit_multilearn-0.2.0-py3-none-any.whl (89 kB)\n",
            "\u001b[2K     \u001b[90m━━━━━━━━━━━━━━━━━━━━━━━━━━━━━━━━━━━━━━━━\u001b[0m \u001b[32m89.4/89.4 kB\u001b[0m \u001b[31m2.5 MB/s\u001b[0m eta \u001b[36m0:00:00\u001b[0m\n",
            "\u001b[?25hInstalling collected packages: scikit-multilearn\n",
            "Successfully installed scikit-multilearn-0.2.0\n",
            "Requirement already satisfied: lightgbm in /usr/local/lib/python3.10/dist-packages (4.0.0)\n",
            "Requirement already satisfied: numpy in /usr/local/lib/python3.10/dist-packages (from lightgbm) (1.23.5)\n",
            "Requirement already satisfied: scipy in /usr/local/lib/python3.10/dist-packages (from lightgbm) (1.11.3)\n",
            "Collecting optuna\n",
            "  Downloading optuna-3.3.0-py3-none-any.whl (404 kB)\n",
            "\u001b[2K     \u001b[90m━━━━━━━━━━━━━━━━━━━━━━━━━━━━━━━━━━━━━━━\u001b[0m \u001b[32m404.2/404.2 kB\u001b[0m \u001b[31m3.8 MB/s\u001b[0m eta \u001b[36m0:00:00\u001b[0m\n",
            "\u001b[?25hCollecting alembic>=1.5.0 (from optuna)\n",
            "  Downloading alembic-1.12.0-py3-none-any.whl (226 kB)\n",
            "\u001b[2K     \u001b[90m━━━━━━━━━━━━━━━━━━━━━━━━━━━━━━━━━━━━━━━\u001b[0m \u001b[32m226.0/226.0 kB\u001b[0m \u001b[31m6.3 MB/s\u001b[0m eta \u001b[36m0:00:00\u001b[0m\n",
            "\u001b[?25hCollecting cmaes>=0.10.0 (from optuna)\n",
            "  Downloading cmaes-0.10.0-py3-none-any.whl (29 kB)\n",
            "Collecting colorlog (from optuna)\n",
            "  Downloading colorlog-6.7.0-py2.py3-none-any.whl (11 kB)\n",
            "Requirement already satisfied: numpy in /usr/local/lib/python3.10/dist-packages (from optuna) (1.23.5)\n",
            "Requirement already satisfied: packaging>=20.0 in /usr/local/lib/python3.10/dist-packages (from optuna) (23.2)\n",
            "Requirement already satisfied: sqlalchemy>=1.3.0 in /usr/local/lib/python3.10/dist-packages (from optuna) (2.0.21)\n",
            "Requirement already satisfied: tqdm in /usr/local/lib/python3.10/dist-packages (from optuna) (4.66.1)\n",
            "Requirement already satisfied: PyYAML in /usr/local/lib/python3.10/dist-packages (from optuna) (6.0.1)\n",
            "Collecting Mako (from alembic>=1.5.0->optuna)\n",
            "  Downloading Mako-1.2.4-py3-none-any.whl (78 kB)\n",
            "\u001b[2K     \u001b[90m━━━━━━━━━━━━━━━━━━━━━━━━━━━━━━━━━━━━━━━━\u001b[0m \u001b[32m78.7/78.7 kB\u001b[0m \u001b[31m9.5 MB/s\u001b[0m eta \u001b[36m0:00:00\u001b[0m\n",
            "\u001b[?25hRequirement already satisfied: typing-extensions>=4 in /usr/local/lib/python3.10/dist-packages (from alembic>=1.5.0->optuna) (4.5.0)\n",
            "Requirement already satisfied: greenlet!=0.4.17 in /usr/local/lib/python3.10/dist-packages (from sqlalchemy>=1.3.0->optuna) (3.0.0)\n",
            "Requirement already satisfied: MarkupSafe>=0.9.2 in /usr/local/lib/python3.10/dist-packages (from Mako->alembic>=1.5.0->optuna) (2.1.3)\n",
            "Installing collected packages: Mako, colorlog, cmaes, alembic, optuna\n",
            "Successfully installed Mako-1.2.4 alembic-1.12.0 cmaes-0.10.0 colorlog-6.7.0 optuna-3.3.0\n",
            "Collecting catboost\n",
            "  Downloading catboost-1.2.2-cp310-cp310-manylinux2014_x86_64.whl (98.7 MB)\n",
            "\u001b[2K     \u001b[90m━━━━━━━━━━━━━━━━━━━━━━━━━━━━━━━━━━━━━━━━\u001b[0m \u001b[32m98.7/98.7 MB\u001b[0m \u001b[31m7.5 MB/s\u001b[0m eta \u001b[36m0:00:00\u001b[0m\n",
            "\u001b[?25hRequirement already satisfied: graphviz in /usr/local/lib/python3.10/dist-packages (from catboost) (0.20.1)\n",
            "Requirement already satisfied: matplotlib in /usr/local/lib/python3.10/dist-packages (from catboost) (3.7.1)\n",
            "Requirement already satisfied: numpy>=1.16.0 in /usr/local/lib/python3.10/dist-packages (from catboost) (1.23.5)\n",
            "Requirement already satisfied: pandas>=0.24 in /usr/local/lib/python3.10/dist-packages (from catboost) (1.5.3)\n",
            "Requirement already satisfied: scipy in /usr/local/lib/python3.10/dist-packages (from catboost) (1.11.3)\n",
            "Requirement already satisfied: plotly in /usr/local/lib/python3.10/dist-packages (from catboost) (5.15.0)\n",
            "Requirement already satisfied: six in /usr/local/lib/python3.10/dist-packages (from catboost) (1.16.0)\n",
            "Requirement already satisfied: python-dateutil>=2.8.1 in /usr/local/lib/python3.10/dist-packages (from pandas>=0.24->catboost) (2.8.2)\n",
            "Requirement already satisfied: pytz>=2020.1 in /usr/local/lib/python3.10/dist-packages (from pandas>=0.24->catboost) (2023.3.post1)\n",
            "Requirement already satisfied: contourpy>=1.0.1 in /usr/local/lib/python3.10/dist-packages (from matplotlib->catboost) (1.1.1)\n",
            "Requirement already satisfied: cycler>=0.10 in /usr/local/lib/python3.10/dist-packages (from matplotlib->catboost) (0.12.1)\n",
            "Requirement already satisfied: fonttools>=4.22.0 in /usr/local/lib/python3.10/dist-packages (from matplotlib->catboost) (4.43.1)\n",
            "Requirement already satisfied: kiwisolver>=1.0.1 in /usr/local/lib/python3.10/dist-packages (from matplotlib->catboost) (1.4.5)\n",
            "Requirement already satisfied: packaging>=20.0 in /usr/local/lib/python3.10/dist-packages (from matplotlib->catboost) (23.2)\n",
            "Requirement already satisfied: pillow>=6.2.0 in /usr/local/lib/python3.10/dist-packages (from matplotlib->catboost) (9.4.0)\n",
            "Requirement already satisfied: pyparsing>=2.3.1 in /usr/local/lib/python3.10/dist-packages (from matplotlib->catboost) (3.1.1)\n",
            "Requirement already satisfied: tenacity>=6.2.0 in /usr/local/lib/python3.10/dist-packages (from plotly->catboost) (8.2.3)\n",
            "Installing collected packages: catboost\n",
            "Successfully installed catboost-1.2.2\n"
          ]
        }
      ],
      "source": [
        "!pip install gdown\n",
        "!pip install scikit-multilearn\n",
        "!pip install lightgbm\n",
        "!pip install optuna\n",
        "!pip install catboost"
      ]
    },
    {
      "cell_type": "code",
      "execution_count": null,
      "metadata": {
        "id": "g9kJHPQpJFNQ"
      },
      "outputs": [],
      "source": [
        "import pandas as pd\n",
        "import numpy as np\n",
        "import gdown\n",
        "from google.colab import drive\n",
        "import seaborn as sns\n",
        "import matplotlib.pyplot as plt\n",
        "\n",
        "from sklearn.decomposition import PCA\n",
        "from sklearn.preprocessing import StandardScaler, LabelEncoder,  FunctionTransformer\n",
        "\n",
        "from sklearn.model_selection import train_test_split, cross_val_score\n",
        "from sklearn.metrics import accuracy_score, f1_score, roc_auc_score, confusion_matrix, classification_report, ConfusionMatrixDisplay\n",
        "from sklearn.pipeline import Pipeline\n",
        "from sklearn.linear_model import LogisticRegression\n",
        "from sklearn.impute import SimpleImputer\n",
        "import xgboost as xgb\n",
        "import lightgbm as lgb\n",
        "import optuna\n",
        "import pickle\n",
        "import catboost\n",
        "from catboost import CatBoostClassifier, cv\n",
        "from sklearn.multiclass import OneVsRestClassifier\n"
      ]
    },
    {
      "cell_type": "markdown",
      "metadata": {
        "id": "GD9f5MLxAW9M"
      },
      "source": [
        "# Описание проекта"
      ]
    },
    {
      "cell_type": "markdown",
      "metadata": {
        "id": "8cGCRe4Tu-bd"
      },
      "source": [
        "Компания онлайн-сервис с высоким уровнем входящего трафика имеет специализированный отдел безопасности, который занимается фильтрацией и анализом трафика. Сотрудники этого отдела обратились за помощью в автоматизации выявления аномального и злонамеренного трафика. Ваша задача - разработать модель, которая будет классифицировать трафик на нормальный и злонамеренный, включая следующие типы атак: DDoS, SQL-инъекции, брутфорс, вредоносные программы и т.д."
      ]
    },
    {
      "cell_type": "markdown",
      "metadata": {
        "id": "1qGQnc6NC4NL"
      },
      "source": [
        "# Загрузка и ознакомление с данными"
      ]
    },
    {
      "cell_type": "code",
      "execution_count": null,
      "metadata": {
        "colab": {
          "base_uri": "https://localhost:8080/"
        },
        "id": "sLgF6-dXNbrh",
        "outputId": "9f98f222-3241-4cbf-d99f-d58ba0a7b473"
      },
      "outputs": [
        {
          "name": "stdout",
          "output_type": "stream",
          "text": [
            "Mounted at /content/drive\n"
          ]
        }
      ],
      "source": [
        "drive.mount('/content/drive')"
      ]
    },
    {
      "cell_type": "code",
      "execution_count": null,
      "metadata": {
        "id": "VpQiOqJCMimo"
      },
      "outputs": [],
      "source": [
        "data = pd.read_csv('/content/drive/MyDrive/network_traffic_data.csv')"
      ]
    },
    {
      "cell_type": "code",
      "execution_count": null,
      "metadata": {
        "id": "cz1Di_S4l7PH"
      },
      "outputs": [],
      "source": [
        "pd.set_option('display.max_columns', None)"
      ]
    },
    {
      "cell_type": "code",
      "execution_count": null,
      "metadata": {
        "colab": {
          "base_uri": "https://localhost:8080/",
          "height": 278
        },
        "id": "4UNyvdVUMnk2",
        "outputId": "bd706ba9-30ca-48f4-e7b8-527b385a41b5"
      },
      "outputs": [
        {
          "data": {
            "text/html": [
              "\n",
              "  <div id=\"df-2eb146bf-ae5b-433d-be32-4484ea49db0e\" class=\"colab-df-container\">\n",
              "    <div>\n",
              "<style scoped>\n",
              "    .dataframe tbody tr th:only-of-type {\n",
              "        vertical-align: middle;\n",
              "    }\n",
              "\n",
              "    .dataframe tbody tr th {\n",
              "        vertical-align: top;\n",
              "    }\n",
              "\n",
              "    .dataframe thead th {\n",
              "        text-align: right;\n",
              "    }\n",
              "</style>\n",
              "<table border=\"1\" class=\"dataframe\">\n",
              "  <thead>\n",
              "    <tr style=\"text-align: right;\">\n",
              "      <th></th>\n",
              "      <th>Destination Port</th>\n",
              "      <th>Flow Duration</th>\n",
              "      <th>Total Fwd Packets</th>\n",
              "      <th>Total Backward Packets</th>\n",
              "      <th>Total Length of Fwd Packets</th>\n",
              "      <th>Total Length of Bwd Packets</th>\n",
              "      <th>Fwd Packet Length Max</th>\n",
              "      <th>Fwd Packet Length Min</th>\n",
              "      <th>Fwd Packet Length Mean</th>\n",
              "      <th>Fwd Packet Length Std</th>\n",
              "      <th>Bwd Packet Length Max</th>\n",
              "      <th>Bwd Packet Length Min</th>\n",
              "      <th>Bwd Packet Length Mean</th>\n",
              "      <th>Bwd Packet Length Std</th>\n",
              "      <th>Flow Bytes/s</th>\n",
              "      <th>Flow Packets/s</th>\n",
              "      <th>Flow IAT Mean</th>\n",
              "      <th>Flow IAT Std</th>\n",
              "      <th>Flow IAT Max</th>\n",
              "      <th>Flow IAT Min</th>\n",
              "      <th>Fwd IAT Total</th>\n",
              "      <th>Fwd IAT Mean</th>\n",
              "      <th>Fwd IAT Std</th>\n",
              "      <th>Fwd IAT Max</th>\n",
              "      <th>Fwd IAT Min</th>\n",
              "      <th>Bwd IAT Total</th>\n",
              "      <th>Bwd IAT Mean</th>\n",
              "      <th>Bwd IAT Std</th>\n",
              "      <th>Bwd IAT Max</th>\n",
              "      <th>Bwd IAT Min</th>\n",
              "      <th>Fwd PSH Flags</th>\n",
              "      <th>Bwd PSH Flags</th>\n",
              "      <th>Fwd URG Flags</th>\n",
              "      <th>Bwd URG Flags</th>\n",
              "      <th>Fwd Header Length</th>\n",
              "      <th>Bwd Header Length</th>\n",
              "      <th>Fwd Packets/s</th>\n",
              "      <th>Bwd Packets/s</th>\n",
              "      <th>Min Packet Length</th>\n",
              "      <th>Max Packet Length</th>\n",
              "      <th>Packet Length Mean</th>\n",
              "      <th>Packet Length Std</th>\n",
              "      <th>Packet Length Variance</th>\n",
              "      <th>FIN Flag Count</th>\n",
              "      <th>SYN Flag Count</th>\n",
              "      <th>RST Flag Count</th>\n",
              "      <th>PSH Flag Count</th>\n",
              "      <th>ACK Flag Count</th>\n",
              "      <th>URG Flag Count</th>\n",
              "      <th>CWE Flag Count</th>\n",
              "      <th>ECE Flag Count</th>\n",
              "      <th>Down/Up Ratio</th>\n",
              "      <th>Average Packet Size</th>\n",
              "      <th>Avg Fwd Segment Size</th>\n",
              "      <th>Avg Bwd Segment Size</th>\n",
              "      <th>Fwd Header Length.1</th>\n",
              "      <th>Fwd Avg Bytes/Bulk</th>\n",
              "      <th>Fwd Avg Packets/Bulk</th>\n",
              "      <th>Fwd Avg Bulk Rate</th>\n",
              "      <th>Bwd Avg Bytes/Bulk</th>\n",
              "      <th>Bwd Avg Packets/Bulk</th>\n",
              "      <th>Bwd Avg Bulk Rate</th>\n",
              "      <th>Subflow Fwd Packets</th>\n",
              "      <th>Subflow Fwd Bytes</th>\n",
              "      <th>Subflow Bwd Packets</th>\n",
              "      <th>Subflow Bwd Bytes</th>\n",
              "      <th>Init_Win_bytes_forward</th>\n",
              "      <th>Init_Win_bytes_backward</th>\n",
              "      <th>act_data_pkt_fwd</th>\n",
              "      <th>min_seg_size_forward</th>\n",
              "      <th>Active Mean</th>\n",
              "      <th>Active Std</th>\n",
              "      <th>Active Max</th>\n",
              "      <th>Active Min</th>\n",
              "      <th>Idle Mean</th>\n",
              "      <th>Idle Std</th>\n",
              "      <th>Idle Max</th>\n",
              "      <th>Idle Min</th>\n",
              "      <th>Label</th>\n",
              "    </tr>\n",
              "  </thead>\n",
              "  <tbody>\n",
              "    <tr>\n",
              "      <th>0</th>\n",
              "      <td>80</td>\n",
              "      <td>5480074</td>\n",
              "      <td>3</td>\n",
              "      <td>1</td>\n",
              "      <td>12</td>\n",
              "      <td>0</td>\n",
              "      <td>6</td>\n",
              "      <td>0</td>\n",
              "      <td>4.000</td>\n",
              "      <td>3.465</td>\n",
              "      <td>0</td>\n",
              "      <td>0</td>\n",
              "      <td>0.0</td>\n",
              "      <td>0.0</td>\n",
              "      <td>2.189751</td>\n",
              "      <td>0.729917</td>\n",
              "      <td>1.826691e+06</td>\n",
              "      <td>3.131700e+06</td>\n",
              "      <td>5442804</td>\n",
              "      <td>101</td>\n",
              "      <td>5480074</td>\n",
              "      <td>2740037.000</td>\n",
              "      <td>3.822290e+06</td>\n",
              "      <td>5442804</td>\n",
              "      <td>37270</td>\n",
              "      <td>0</td>\n",
              "      <td>0.000</td>\n",
              "      <td>0.00</td>\n",
              "      <td>0</td>\n",
              "      <td>0</td>\n",
              "      <td>0</td>\n",
              "      <td>0</td>\n",
              "      <td>0</td>\n",
              "      <td>0</td>\n",
              "      <td>72</td>\n",
              "      <td>32</td>\n",
              "      <td>0.547438</td>\n",
              "      <td>0.182479</td>\n",
              "      <td>0</td>\n",
              "      <td>6</td>\n",
              "      <td>2.4</td>\n",
              "      <td>3.287</td>\n",
              "      <td>10.8000</td>\n",
              "      <td>0</td>\n",
              "      <td>0</td>\n",
              "      <td>0</td>\n",
              "      <td>1</td>\n",
              "      <td>0</td>\n",
              "      <td>0</td>\n",
              "      <td>0</td>\n",
              "      <td>0</td>\n",
              "      <td>0</td>\n",
              "      <td>3.00</td>\n",
              "      <td>4.000</td>\n",
              "      <td>0.0</td>\n",
              "      <td>72</td>\n",
              "      <td>0</td>\n",
              "      <td>0</td>\n",
              "      <td>0</td>\n",
              "      <td>0</td>\n",
              "      <td>0</td>\n",
              "      <td>0</td>\n",
              "      <td>3</td>\n",
              "      <td>12</td>\n",
              "      <td>1</td>\n",
              "      <td>0</td>\n",
              "      <td>8192</td>\n",
              "      <td>42780</td>\n",
              "      <td>2</td>\n",
              "      <td>20</td>\n",
              "      <td>0.0</td>\n",
              "      <td>0.0</td>\n",
              "      <td>0</td>\n",
              "      <td>0</td>\n",
              "      <td>0.0</td>\n",
              "      <td>0.0</td>\n",
              "      <td>0</td>\n",
              "      <td>0</td>\n",
              "      <td>BENIGN</td>\n",
              "    </tr>\n",
              "    <tr>\n",
              "      <th>1</th>\n",
              "      <td>443</td>\n",
              "      <td>711977</td>\n",
              "      <td>9</td>\n",
              "      <td>10</td>\n",
              "      <td>703</td>\n",
              "      <td>3950</td>\n",
              "      <td>267</td>\n",
              "      <td>0</td>\n",
              "      <td>78.100</td>\n",
              "      <td>103.300</td>\n",
              "      <td>1448</td>\n",
              "      <td>0</td>\n",
              "      <td>395.0</td>\n",
              "      <td>587.5</td>\n",
              "      <td>6535.323473</td>\n",
              "      <td>26.686255</td>\n",
              "      <td>3.955428e+04</td>\n",
              "      <td>5.015462e+04</td>\n",
              "      <td>120501</td>\n",
              "      <td>1</td>\n",
              "      <td>616301</td>\n",
              "      <td>77037.625</td>\n",
              "      <td>7.299598e+04</td>\n",
              "      <td>215614</td>\n",
              "      <td>230</td>\n",
              "      <td>616874</td>\n",
              "      <td>68541.555</td>\n",
              "      <td>71985.97</td>\n",
              "      <td>199836</td>\n",
              "      <td>1</td>\n",
              "      <td>0</td>\n",
              "      <td>0</td>\n",
              "      <td>0</td>\n",
              "      <td>0</td>\n",
              "      <td>296</td>\n",
              "      <td>328</td>\n",
              "      <td>12.640858</td>\n",
              "      <td>14.045398</td>\n",
              "      <td>0</td>\n",
              "      <td>1448</td>\n",
              "      <td>232.6</td>\n",
              "      <td>442.800</td>\n",
              "      <td>196012.6600</td>\n",
              "      <td>0</td>\n",
              "      <td>0</td>\n",
              "      <td>0</td>\n",
              "      <td>1</td>\n",
              "      <td>0</td>\n",
              "      <td>0</td>\n",
              "      <td>0</td>\n",
              "      <td>0</td>\n",
              "      <td>1</td>\n",
              "      <td>244.90</td>\n",
              "      <td>78.100</td>\n",
              "      <td>395.0</td>\n",
              "      <td>296</td>\n",
              "      <td>0</td>\n",
              "      <td>0</td>\n",
              "      <td>0</td>\n",
              "      <td>0</td>\n",
              "      <td>0</td>\n",
              "      <td>0</td>\n",
              "      <td>9</td>\n",
              "      <td>703</td>\n",
              "      <td>10</td>\n",
              "      <td>3950</td>\n",
              "      <td>29200</td>\n",
              "      <td>252</td>\n",
              "      <td>4</td>\n",
              "      <td>32</td>\n",
              "      <td>0.0</td>\n",
              "      <td>0.0</td>\n",
              "      <td>0</td>\n",
              "      <td>0</td>\n",
              "      <td>0.0</td>\n",
              "      <td>0.0</td>\n",
              "      <td>0</td>\n",
              "      <td>0</td>\n",
              "      <td>BENIGN</td>\n",
              "    </tr>\n",
              "    <tr>\n",
              "      <th>2</th>\n",
              "      <td>53</td>\n",
              "      <td>153398</td>\n",
              "      <td>2</td>\n",
              "      <td>2</td>\n",
              "      <td>80</td>\n",
              "      <td>224</td>\n",
              "      <td>40</td>\n",
              "      <td>40</td>\n",
              "      <td>40.000</td>\n",
              "      <td>0.000</td>\n",
              "      <td>112</td>\n",
              "      <td>112</td>\n",
              "      <td>112.0</td>\n",
              "      <td>0.0</td>\n",
              "      <td>1981.772904</td>\n",
              "      <td>26.075959</td>\n",
              "      <td>5.113267e+04</td>\n",
              "      <td>8.855831e+04</td>\n",
              "      <td>153391</td>\n",
              "      <td>3</td>\n",
              "      <td>3</td>\n",
              "      <td>3.000</td>\n",
              "      <td>0.000000e+00</td>\n",
              "      <td>3</td>\n",
              "      <td>3</td>\n",
              "      <td>4</td>\n",
              "      <td>4.000</td>\n",
              "      <td>0.00</td>\n",
              "      <td>4</td>\n",
              "      <td>4</td>\n",
              "      <td>0</td>\n",
              "      <td>0</td>\n",
              "      <td>0</td>\n",
              "      <td>0</td>\n",
              "      <td>40</td>\n",
              "      <td>40</td>\n",
              "      <td>13.037980</td>\n",
              "      <td>13.037980</td>\n",
              "      <td>40</td>\n",
              "      <td>112</td>\n",
              "      <td>68.8</td>\n",
              "      <td>39.440</td>\n",
              "      <td>1555.2000</td>\n",
              "      <td>0</td>\n",
              "      <td>0</td>\n",
              "      <td>0</td>\n",
              "      <td>0</td>\n",
              "      <td>0</td>\n",
              "      <td>0</td>\n",
              "      <td>0</td>\n",
              "      <td>0</td>\n",
              "      <td>1</td>\n",
              "      <td>86.00</td>\n",
              "      <td>40.000</td>\n",
              "      <td>112.0</td>\n",
              "      <td>40</td>\n",
              "      <td>0</td>\n",
              "      <td>0</td>\n",
              "      <td>0</td>\n",
              "      <td>0</td>\n",
              "      <td>0</td>\n",
              "      <td>0</td>\n",
              "      <td>2</td>\n",
              "      <td>80</td>\n",
              "      <td>2</td>\n",
              "      <td>224</td>\n",
              "      <td>-1</td>\n",
              "      <td>-1</td>\n",
              "      <td>1</td>\n",
              "      <td>20</td>\n",
              "      <td>0.0</td>\n",
              "      <td>0.0</td>\n",
              "      <td>0</td>\n",
              "      <td>0</td>\n",
              "      <td>0.0</td>\n",
              "      <td>0.0</td>\n",
              "      <td>0</td>\n",
              "      <td>0</td>\n",
              "      <td>BENIGN</td>\n",
              "    </tr>\n",
              "    <tr>\n",
              "      <th>3</th>\n",
              "      <td>53</td>\n",
              "      <td>57660</td>\n",
              "      <td>1</td>\n",
              "      <td>1</td>\n",
              "      <td>46</td>\n",
              "      <td>128</td>\n",
              "      <td>46</td>\n",
              "      <td>46</td>\n",
              "      <td>46.000</td>\n",
              "      <td>0.000</td>\n",
              "      <td>128</td>\n",
              "      <td>128</td>\n",
              "      <td>128.0</td>\n",
              "      <td>0.0</td>\n",
              "      <td>3017.689906</td>\n",
              "      <td>34.686091</td>\n",
              "      <td>5.766000e+04</td>\n",
              "      <td>0.000000e+00</td>\n",
              "      <td>57660</td>\n",
              "      <td>57660</td>\n",
              "      <td>0</td>\n",
              "      <td>0.000</td>\n",
              "      <td>0.000000e+00</td>\n",
              "      <td>0</td>\n",
              "      <td>0</td>\n",
              "      <td>0</td>\n",
              "      <td>0.000</td>\n",
              "      <td>0.00</td>\n",
              "      <td>0</td>\n",
              "      <td>0</td>\n",
              "      <td>0</td>\n",
              "      <td>0</td>\n",
              "      <td>0</td>\n",
              "      <td>0</td>\n",
              "      <td>20</td>\n",
              "      <td>20</td>\n",
              "      <td>17.343046</td>\n",
              "      <td>17.343046</td>\n",
              "      <td>46</td>\n",
              "      <td>128</td>\n",
              "      <td>73.3</td>\n",
              "      <td>47.340</td>\n",
              "      <td>2241.3333</td>\n",
              "      <td>0</td>\n",
              "      <td>0</td>\n",
              "      <td>0</td>\n",
              "      <td>0</td>\n",
              "      <td>0</td>\n",
              "      <td>0</td>\n",
              "      <td>0</td>\n",
              "      <td>0</td>\n",
              "      <td>1</td>\n",
              "      <td>110.00</td>\n",
              "      <td>46.000</td>\n",
              "      <td>128.0</td>\n",
              "      <td>20</td>\n",
              "      <td>0</td>\n",
              "      <td>0</td>\n",
              "      <td>0</td>\n",
              "      <td>0</td>\n",
              "      <td>0</td>\n",
              "      <td>0</td>\n",
              "      <td>1</td>\n",
              "      <td>46</td>\n",
              "      <td>1</td>\n",
              "      <td>128</td>\n",
              "      <td>-1</td>\n",
              "      <td>-1</td>\n",
              "      <td>0</td>\n",
              "      <td>20</td>\n",
              "      <td>0.0</td>\n",
              "      <td>0.0</td>\n",
              "      <td>0</td>\n",
              "      <td>0</td>\n",
              "      <td>0.0</td>\n",
              "      <td>0.0</td>\n",
              "      <td>0</td>\n",
              "      <td>0</td>\n",
              "      <td>BENIGN</td>\n",
              "    </tr>\n",
              "    <tr>\n",
              "      <th>4</th>\n",
              "      <td>8446</td>\n",
              "      <td>767</td>\n",
              "      <td>3</td>\n",
              "      <td>1</td>\n",
              "      <td>43</td>\n",
              "      <td>6</td>\n",
              "      <td>31</td>\n",
              "      <td>6</td>\n",
              "      <td>14.336</td>\n",
              "      <td>14.440</td>\n",
              "      <td>6</td>\n",
              "      <td>6</td>\n",
              "      <td>6.0</td>\n",
              "      <td>0.0</td>\n",
              "      <td>63885.267280</td>\n",
              "      <td>5215.123859</td>\n",
              "      <td>2.556667e+02</td>\n",
              "      <td>3.942896e+02</td>\n",
              "      <td>710</td>\n",
              "      <td>3</td>\n",
              "      <td>713</td>\n",
              "      <td>356.500</td>\n",
              "      <td>4.999245e+02</td>\n",
              "      <td>710</td>\n",
              "      <td>3</td>\n",
              "      <td>0</td>\n",
              "      <td>0.000</td>\n",
              "      <td>0.00</td>\n",
              "      <td>0</td>\n",
              "      <td>0</td>\n",
              "      <td>0</td>\n",
              "      <td>0</td>\n",
              "      <td>0</td>\n",
              "      <td>0</td>\n",
              "      <td>60</td>\n",
              "      <td>20</td>\n",
              "      <td>3911.342800</td>\n",
              "      <td>1303.781000</td>\n",
              "      <td>6</td>\n",
              "      <td>31</td>\n",
              "      <td>11.0</td>\n",
              "      <td>11.180</td>\n",
              "      <td>125.0000</td>\n",
              "      <td>0</td>\n",
              "      <td>0</td>\n",
              "      <td>0</td>\n",
              "      <td>0</td>\n",
              "      <td>1</td>\n",
              "      <td>0</td>\n",
              "      <td>0</td>\n",
              "      <td>0</td>\n",
              "      <td>0</td>\n",
              "      <td>13.75</td>\n",
              "      <td>14.336</td>\n",
              "      <td>6.0</td>\n",
              "      <td>60</td>\n",
              "      <td>0</td>\n",
              "      <td>0</td>\n",
              "      <td>0</td>\n",
              "      <td>0</td>\n",
              "      <td>0</td>\n",
              "      <td>0</td>\n",
              "      <td>3</td>\n",
              "      <td>43</td>\n",
              "      <td>1</td>\n",
              "      <td>6</td>\n",
              "      <td>1017</td>\n",
              "      <td>0</td>\n",
              "      <td>2</td>\n",
              "      <td>20</td>\n",
              "      <td>0.0</td>\n",
              "      <td>0.0</td>\n",
              "      <td>0</td>\n",
              "      <td>0</td>\n",
              "      <td>0.0</td>\n",
              "      <td>0.0</td>\n",
              "      <td>0</td>\n",
              "      <td>0</td>\n",
              "      <td>BENIGN</td>\n",
              "    </tr>\n",
              "  </tbody>\n",
              "</table>\n",
              "</div>\n",
              "    <div class=\"colab-df-buttons\">\n",
              "\n",
              "  <div class=\"colab-df-container\">\n",
              "    <button class=\"colab-df-convert\" onclick=\"convertToInteractive('df-2eb146bf-ae5b-433d-be32-4484ea49db0e')\"\n",
              "            title=\"Convert this dataframe to an interactive table.\"\n",
              "            style=\"display:none;\">\n",
              "\n",
              "  <svg xmlns=\"http://www.w3.org/2000/svg\" height=\"24px\" viewBox=\"0 -960 960 960\">\n",
              "    <path d=\"M120-120v-720h720v720H120Zm60-500h600v-160H180v160Zm220 220h160v-160H400v160Zm0 220h160v-160H400v160ZM180-400h160v-160H180v160Zm440 0h160v-160H620v160ZM180-180h160v-160H180v160Zm440 0h160v-160H620v160Z\"/>\n",
              "  </svg>\n",
              "    </button>\n",
              "\n",
              "  <style>\n",
              "    .colab-df-container {\n",
              "      display:flex;\n",
              "      gap: 12px;\n",
              "    }\n",
              "\n",
              "    .colab-df-convert {\n",
              "      background-color: #E8F0FE;\n",
              "      border: none;\n",
              "      border-radius: 50%;\n",
              "      cursor: pointer;\n",
              "      display: none;\n",
              "      fill: #1967D2;\n",
              "      height: 32px;\n",
              "      padding: 0 0 0 0;\n",
              "      width: 32px;\n",
              "    }\n",
              "\n",
              "    .colab-df-convert:hover {\n",
              "      background-color: #E2EBFA;\n",
              "      box-shadow: 0px 1px 2px rgba(60, 64, 67, 0.3), 0px 1px 3px 1px rgba(60, 64, 67, 0.15);\n",
              "      fill: #174EA6;\n",
              "    }\n",
              "\n",
              "    .colab-df-buttons div {\n",
              "      margin-bottom: 4px;\n",
              "    }\n",
              "\n",
              "    [theme=dark] .colab-df-convert {\n",
              "      background-color: #3B4455;\n",
              "      fill: #D2E3FC;\n",
              "    }\n",
              "\n",
              "    [theme=dark] .colab-df-convert:hover {\n",
              "      background-color: #434B5C;\n",
              "      box-shadow: 0px 1px 3px 1px rgba(0, 0, 0, 0.15);\n",
              "      filter: drop-shadow(0px 1px 2px rgba(0, 0, 0, 0.3));\n",
              "      fill: #FFFFFF;\n",
              "    }\n",
              "  </style>\n",
              "\n",
              "    <script>\n",
              "      const buttonEl =\n",
              "        document.querySelector('#df-2eb146bf-ae5b-433d-be32-4484ea49db0e button.colab-df-convert');\n",
              "      buttonEl.style.display =\n",
              "        google.colab.kernel.accessAllowed ? 'block' : 'none';\n",
              "\n",
              "      async function convertToInteractive(key) {\n",
              "        const element = document.querySelector('#df-2eb146bf-ae5b-433d-be32-4484ea49db0e');\n",
              "        const dataTable =\n",
              "          await google.colab.kernel.invokeFunction('convertToInteractive',\n",
              "                                                    [key], {});\n",
              "        if (!dataTable) return;\n",
              "\n",
              "        const docLinkHtml = 'Like what you see? Visit the ' +\n",
              "          '<a target=\"_blank\" href=https://colab.research.google.com/notebooks/data_table.ipynb>data table notebook</a>'\n",
              "          + ' to learn more about interactive tables.';\n",
              "        element.innerHTML = '';\n",
              "        dataTable['output_type'] = 'display_data';\n",
              "        await google.colab.output.renderOutput(dataTable, element);\n",
              "        const docLink = document.createElement('div');\n",
              "        docLink.innerHTML = docLinkHtml;\n",
              "        element.appendChild(docLink);\n",
              "      }\n",
              "    </script>\n",
              "  </div>\n",
              "\n",
              "\n",
              "<div id=\"df-85eeccb6-e4d2-45cd-9862-6d88aaa9cd9a\">\n",
              "  <button class=\"colab-df-quickchart\" onclick=\"quickchart('df-85eeccb6-e4d2-45cd-9862-6d88aaa9cd9a')\"\n",
              "            title=\"Suggest charts.\"\n",
              "            style=\"display:none;\">\n",
              "\n",
              "<svg xmlns=\"http://www.w3.org/2000/svg\" height=\"24px\"viewBox=\"0 0 24 24\"\n",
              "     width=\"24px\">\n",
              "    <g>\n",
              "        <path d=\"M19 3H5c-1.1 0-2 .9-2 2v14c0 1.1.9 2 2 2h14c1.1 0 2-.9 2-2V5c0-1.1-.9-2-2-2zM9 17H7v-7h2v7zm4 0h-2V7h2v10zm4 0h-2v-4h2v4z\"/>\n",
              "    </g>\n",
              "</svg>\n",
              "  </button>\n",
              "\n",
              "<style>\n",
              "  .colab-df-quickchart {\n",
              "      --bg-color: #E8F0FE;\n",
              "      --fill-color: #1967D2;\n",
              "      --hover-bg-color: #E2EBFA;\n",
              "      --hover-fill-color: #174EA6;\n",
              "      --disabled-fill-color: #AAA;\n",
              "      --disabled-bg-color: #DDD;\n",
              "  }\n",
              "\n",
              "  [theme=dark] .colab-df-quickchart {\n",
              "      --bg-color: #3B4455;\n",
              "      --fill-color: #D2E3FC;\n",
              "      --hover-bg-color: #434B5C;\n",
              "      --hover-fill-color: #FFFFFF;\n",
              "      --disabled-bg-color: #3B4455;\n",
              "      --disabled-fill-color: #666;\n",
              "  }\n",
              "\n",
              "  .colab-df-quickchart {\n",
              "    background-color: var(--bg-color);\n",
              "    border: none;\n",
              "    border-radius: 50%;\n",
              "    cursor: pointer;\n",
              "    display: none;\n",
              "    fill: var(--fill-color);\n",
              "    height: 32px;\n",
              "    padding: 0;\n",
              "    width: 32px;\n",
              "  }\n",
              "\n",
              "  .colab-df-quickchart:hover {\n",
              "    background-color: var(--hover-bg-color);\n",
              "    box-shadow: 0 1px 2px rgba(60, 64, 67, 0.3), 0 1px 3px 1px rgba(60, 64, 67, 0.15);\n",
              "    fill: var(--button-hover-fill-color);\n",
              "  }\n",
              "\n",
              "  .colab-df-quickchart-complete:disabled,\n",
              "  .colab-df-quickchart-complete:disabled:hover {\n",
              "    background-color: var(--disabled-bg-color);\n",
              "    fill: var(--disabled-fill-color);\n",
              "    box-shadow: none;\n",
              "  }\n",
              "\n",
              "  .colab-df-spinner {\n",
              "    border: 2px solid var(--fill-color);\n",
              "    border-color: transparent;\n",
              "    border-bottom-color: var(--fill-color);\n",
              "    animation:\n",
              "      spin 1s steps(1) infinite;\n",
              "  }\n",
              "\n",
              "  @keyframes spin {\n",
              "    0% {\n",
              "      border-color: transparent;\n",
              "      border-bottom-color: var(--fill-color);\n",
              "      border-left-color: var(--fill-color);\n",
              "    }\n",
              "    20% {\n",
              "      border-color: transparent;\n",
              "      border-left-color: var(--fill-color);\n",
              "      border-top-color: var(--fill-color);\n",
              "    }\n",
              "    30% {\n",
              "      border-color: transparent;\n",
              "      border-left-color: var(--fill-color);\n",
              "      border-top-color: var(--fill-color);\n",
              "      border-right-color: var(--fill-color);\n",
              "    }\n",
              "    40% {\n",
              "      border-color: transparent;\n",
              "      border-right-color: var(--fill-color);\n",
              "      border-top-color: var(--fill-color);\n",
              "    }\n",
              "    60% {\n",
              "      border-color: transparent;\n",
              "      border-right-color: var(--fill-color);\n",
              "    }\n",
              "    80% {\n",
              "      border-color: transparent;\n",
              "      border-right-color: var(--fill-color);\n",
              "      border-bottom-color: var(--fill-color);\n",
              "    }\n",
              "    90% {\n",
              "      border-color: transparent;\n",
              "      border-bottom-color: var(--fill-color);\n",
              "    }\n",
              "  }\n",
              "</style>\n",
              "\n",
              "  <script>\n",
              "    async function quickchart(key) {\n",
              "      const quickchartButtonEl =\n",
              "        document.querySelector('#' + key + ' button');\n",
              "      quickchartButtonEl.disabled = true;  // To prevent multiple clicks.\n",
              "      quickchartButtonEl.classList.add('colab-df-spinner');\n",
              "      try {\n",
              "        const charts = await google.colab.kernel.invokeFunction(\n",
              "            'suggestCharts', [key], {});\n",
              "      } catch (error) {\n",
              "        console.error('Error during call to suggestCharts:', error);\n",
              "      }\n",
              "      quickchartButtonEl.classList.remove('colab-df-spinner');\n",
              "      quickchartButtonEl.classList.add('colab-df-quickchart-complete');\n",
              "    }\n",
              "    (() => {\n",
              "      let quickchartButtonEl =\n",
              "        document.querySelector('#df-85eeccb6-e4d2-45cd-9862-6d88aaa9cd9a button');\n",
              "      quickchartButtonEl.style.display =\n",
              "        google.colab.kernel.accessAllowed ? 'block' : 'none';\n",
              "    })();\n",
              "  </script>\n",
              "</div>\n",
              "    </div>\n",
              "  </div>\n"
            ],
            "text/plain": [
              "    Destination Port   Flow Duration   Total Fwd Packets  \\\n",
              "0                 80         5480074                   3   \n",
              "1                443          711977                   9   \n",
              "2                 53          153398                   2   \n",
              "3                 53           57660                   1   \n",
              "4               8446             767                   3   \n",
              "\n",
              "    Total Backward Packets  Total Length of Fwd Packets  \\\n",
              "0                        1                           12   \n",
              "1                       10                          703   \n",
              "2                        2                           80   \n",
              "3                        1                           46   \n",
              "4                        1                           43   \n",
              "\n",
              "    Total Length of Bwd Packets   Fwd Packet Length Max  \\\n",
              "0                             0                       6   \n",
              "1                          3950                     267   \n",
              "2                           224                      40   \n",
              "3                           128                      46   \n",
              "4                             6                      31   \n",
              "\n",
              "    Fwd Packet Length Min   Fwd Packet Length Mean   Fwd Packet Length Std  \\\n",
              "0                       0                    4.000                   3.465   \n",
              "1                       0                   78.100                 103.300   \n",
              "2                      40                   40.000                   0.000   \n",
              "3                      46                   46.000                   0.000   \n",
              "4                       6                   14.336                  14.440   \n",
              "\n",
              "   Bwd Packet Length Max   Bwd Packet Length Min   Bwd Packet Length Mean  \\\n",
              "0                      0                       0                      0.0   \n",
              "1                   1448                       0                    395.0   \n",
              "2                    112                     112                    112.0   \n",
              "3                    128                     128                    128.0   \n",
              "4                      6                       6                      6.0   \n",
              "\n",
              "    Bwd Packet Length Std  Flow Bytes/s   Flow Packets/s   Flow IAT Mean  \\\n",
              "0                     0.0      2.189751         0.729917    1.826691e+06   \n",
              "1                   587.5   6535.323473        26.686255    3.955428e+04   \n",
              "2                     0.0   1981.772904        26.075959    5.113267e+04   \n",
              "3                     0.0   3017.689906        34.686091    5.766000e+04   \n",
              "4                     0.0  63885.267280      5215.123859    2.556667e+02   \n",
              "\n",
              "    Flow IAT Std   Flow IAT Max   Flow IAT Min  Fwd IAT Total   Fwd IAT Mean  \\\n",
              "0   3.131700e+06        5442804            101        5480074    2740037.000   \n",
              "1   5.015462e+04         120501              1         616301      77037.625   \n",
              "2   8.855831e+04         153391              3              3          3.000   \n",
              "3   0.000000e+00          57660          57660              0          0.000   \n",
              "4   3.942896e+02            710              3            713        356.500   \n",
              "\n",
              "    Fwd IAT Std   Fwd IAT Max   Fwd IAT Min  Bwd IAT Total   Bwd IAT Mean  \\\n",
              "0  3.822290e+06       5442804         37270              0          0.000   \n",
              "1  7.299598e+04        215614           230         616874      68541.555   \n",
              "2  0.000000e+00             3             3              4          4.000   \n",
              "3  0.000000e+00             0             0              0          0.000   \n",
              "4  4.999245e+02           710             3              0          0.000   \n",
              "\n",
              "    Bwd IAT Std   Bwd IAT Max   Bwd IAT Min  Fwd PSH Flags   Bwd PSH Flags  \\\n",
              "0          0.00             0             0              0               0   \n",
              "1      71985.97        199836             1              0               0   \n",
              "2          0.00             4             4              0               0   \n",
              "3          0.00             0             0              0               0   \n",
              "4          0.00             0             0              0               0   \n",
              "\n",
              "    Fwd URG Flags   Bwd URG Flags   Fwd Header Length   Bwd Header Length  \\\n",
              "0               0               0                  72                  32   \n",
              "1               0               0                 296                 328   \n",
              "2               0               0                  40                  40   \n",
              "3               0               0                  20                  20   \n",
              "4               0               0                  60                  20   \n",
              "\n",
              "   Fwd Packets/s   Bwd Packets/s   Min Packet Length   Max Packet Length  \\\n",
              "0       0.547438        0.182479                   0                   6   \n",
              "1      12.640858       14.045398                   0                1448   \n",
              "2      13.037980       13.037980                  40                 112   \n",
              "3      17.343046       17.343046                  46                 128   \n",
              "4    3911.342800     1303.781000                   6                  31   \n",
              "\n",
              "    Packet Length Mean   Packet Length Std   Packet Length Variance  \\\n",
              "0                  2.4               3.287                  10.8000   \n",
              "1                232.6             442.800              196012.6600   \n",
              "2                 68.8              39.440                1555.2000   \n",
              "3                 73.3              47.340                2241.3333   \n",
              "4                 11.0              11.180                 125.0000   \n",
              "\n",
              "   FIN Flag Count   SYN Flag Count   RST Flag Count   PSH Flag Count  \\\n",
              "0               0                0                0                1   \n",
              "1               0                0                0                1   \n",
              "2               0                0                0                0   \n",
              "3               0                0                0                0   \n",
              "4               0                0                0                0   \n",
              "\n",
              "    ACK Flag Count   URG Flag Count   CWE Flag Count   ECE Flag Count  \\\n",
              "0                0                0                0                0   \n",
              "1                0                0                0                0   \n",
              "2                0                0                0                0   \n",
              "3                0                0                0                0   \n",
              "4                1                0                0                0   \n",
              "\n",
              "    Down/Up Ratio   Average Packet Size   Avg Fwd Segment Size  \\\n",
              "0               0                  3.00                  4.000   \n",
              "1               1                244.90                 78.100   \n",
              "2               1                 86.00                 40.000   \n",
              "3               1                110.00                 46.000   \n",
              "4               0                 13.75                 14.336   \n",
              "\n",
              "    Avg Bwd Segment Size   Fwd Header Length.1  Fwd Avg Bytes/Bulk  \\\n",
              "0                    0.0                    72                   0   \n",
              "1                  395.0                   296                   0   \n",
              "2                  112.0                    40                   0   \n",
              "3                  128.0                    20                   0   \n",
              "4                    6.0                    60                   0   \n",
              "\n",
              "    Fwd Avg Packets/Bulk   Fwd Avg Bulk Rate   Bwd Avg Bytes/Bulk  \\\n",
              "0                      0                   0                    0   \n",
              "1                      0                   0                    0   \n",
              "2                      0                   0                    0   \n",
              "3                      0                   0                    0   \n",
              "4                      0                   0                    0   \n",
              "\n",
              "    Bwd Avg Packets/Bulk  Bwd Avg Bulk Rate  Subflow Fwd Packets  \\\n",
              "0                      0                  0                    3   \n",
              "1                      0                  0                    9   \n",
              "2                      0                  0                    2   \n",
              "3                      0                  0                    1   \n",
              "4                      0                  0                    3   \n",
              "\n",
              "    Subflow Fwd Bytes   Subflow Bwd Packets   Subflow Bwd Bytes  \\\n",
              "0                  12                     1                   0   \n",
              "1                 703                    10                3950   \n",
              "2                  80                     2                 224   \n",
              "3                  46                     1                 128   \n",
              "4                  43                     1                   6   \n",
              "\n",
              "   Init_Win_bytes_forward   Init_Win_bytes_backward   act_data_pkt_fwd  \\\n",
              "0                    8192                     42780                  2   \n",
              "1                   29200                       252                  4   \n",
              "2                      -1                        -1                  1   \n",
              "3                      -1                        -1                  0   \n",
              "4                    1017                         0                  2   \n",
              "\n",
              "    min_seg_size_forward  Active Mean   Active Std   Active Max   Active Min  \\\n",
              "0                     20          0.0          0.0            0            0   \n",
              "1                     32          0.0          0.0            0            0   \n",
              "2                     20          0.0          0.0            0            0   \n",
              "3                     20          0.0          0.0            0            0   \n",
              "4                     20          0.0          0.0            0            0   \n",
              "\n",
              "   Idle Mean   Idle Std   Idle Max   Idle Min   Label  \n",
              "0        0.0        0.0          0          0  BENIGN  \n",
              "1        0.0        0.0          0          0  BENIGN  \n",
              "2        0.0        0.0          0          0  BENIGN  \n",
              "3        0.0        0.0          0          0  BENIGN  \n",
              "4        0.0        0.0          0          0  BENIGN  "
            ]
          },
          "execution_count": 6,
          "metadata": {},
          "output_type": "execute_result"
        }
      ],
      "source": [
        "data.head()"
      ]
    },
    {
      "cell_type": "code",
      "execution_count": null,
      "metadata": {
        "colab": {
          "base_uri": "https://localhost:8080/"
        },
        "id": "mYxaHz2BMohN",
        "outputId": "54c6bb1f-462b-4a85-dc0d-4b6c79cbea7f"
      },
      "outputs": [
        {
          "name": "stdout",
          "output_type": "stream",
          "text": [
            "<class 'pandas.core.frame.DataFrame'>\n",
            "RangeIndex: 539616 entries, 0 to 539615\n",
            "Data columns (total 79 columns):\n",
            " #   Column                        Non-Null Count   Dtype  \n",
            "---  ------                        --------------   -----  \n",
            " 0    Destination Port             539616 non-null  int64  \n",
            " 1    Flow Duration                539616 non-null  int64  \n",
            " 2    Total Fwd Packets            539616 non-null  int64  \n",
            " 3    Total Backward Packets       539616 non-null  int64  \n",
            " 4   Total Length of Fwd Packets   539616 non-null  int64  \n",
            " 5    Total Length of Bwd Packets  539616 non-null  int64  \n",
            " 6    Fwd Packet Length Max        539616 non-null  int64  \n",
            " 7    Fwd Packet Length Min        539616 non-null  int64  \n",
            " 8    Fwd Packet Length Mean       539616 non-null  float64\n",
            " 9    Fwd Packet Length Std        539616 non-null  float64\n",
            " 10  Bwd Packet Length Max         539616 non-null  int64  \n",
            " 11   Bwd Packet Length Min        539616 non-null  int64  \n",
            " 12   Bwd Packet Length Mean       539616 non-null  float64\n",
            " 13   Bwd Packet Length Std        539616 non-null  float64\n",
            " 14  Flow Bytes/s                  539128 non-null  float64\n",
            " 15   Flow Packets/s               539616 non-null  float64\n",
            " 16   Flow IAT Mean                539616 non-null  float64\n",
            " 17   Flow IAT Std                 539616 non-null  float64\n",
            " 18   Flow IAT Max                 539616 non-null  int64  \n",
            " 19   Flow IAT Min                 539616 non-null  int64  \n",
            " 20  Fwd IAT Total                 539616 non-null  int64  \n",
            " 21   Fwd IAT Mean                 539616 non-null  float64\n",
            " 22   Fwd IAT Std                  539616 non-null  float64\n",
            " 23   Fwd IAT Max                  539616 non-null  int64  \n",
            " 24   Fwd IAT Min                  539616 non-null  int64  \n",
            " 25  Bwd IAT Total                 539616 non-null  int64  \n",
            " 26   Bwd IAT Mean                 539616 non-null  float64\n",
            " 27   Bwd IAT Std                  539616 non-null  float64\n",
            " 28   Bwd IAT Max                  539616 non-null  int64  \n",
            " 29   Bwd IAT Min                  539616 non-null  int64  \n",
            " 30  Fwd PSH Flags                 539616 non-null  int64  \n",
            " 31   Bwd PSH Flags                539616 non-null  int64  \n",
            " 32   Fwd URG Flags                539616 non-null  int64  \n",
            " 33   Bwd URG Flags                539616 non-null  int64  \n",
            " 34   Fwd Header Length            539616 non-null  int64  \n",
            " 35   Bwd Header Length            539616 non-null  int64  \n",
            " 36  Fwd Packets/s                 539616 non-null  float64\n",
            " 37   Bwd Packets/s                539616 non-null  float64\n",
            " 38   Min Packet Length            539616 non-null  int64  \n",
            " 39   Max Packet Length            539616 non-null  int64  \n",
            " 40   Packet Length Mean           539616 non-null  float64\n",
            " 41   Packet Length Std            539616 non-null  float64\n",
            " 42   Packet Length Variance       539616 non-null  float64\n",
            " 43  FIN Flag Count                539616 non-null  int64  \n",
            " 44   SYN Flag Count               539616 non-null  int64  \n",
            " 45   RST Flag Count               539616 non-null  int64  \n",
            " 46   PSH Flag Count               539616 non-null  int64  \n",
            " 47   ACK Flag Count               539616 non-null  int64  \n",
            " 48   URG Flag Count               539616 non-null  int64  \n",
            " 49   CWE Flag Count               539616 non-null  int64  \n",
            " 50   ECE Flag Count               539616 non-null  int64  \n",
            " 51   Down/Up Ratio                539616 non-null  int64  \n",
            " 52   Average Packet Size          539616 non-null  float64\n",
            " 53   Avg Fwd Segment Size         539616 non-null  float64\n",
            " 54   Avg Bwd Segment Size         539616 non-null  float64\n",
            " 55   Fwd Header Length.1          539616 non-null  int64  \n",
            " 56  Fwd Avg Bytes/Bulk            539616 non-null  int64  \n",
            " 57   Fwd Avg Packets/Bulk         539616 non-null  int64  \n",
            " 58   Fwd Avg Bulk Rate            539616 non-null  int64  \n",
            " 59   Bwd Avg Bytes/Bulk           539616 non-null  int64  \n",
            " 60   Bwd Avg Packets/Bulk         539616 non-null  int64  \n",
            " 61  Bwd Avg Bulk Rate             539616 non-null  int64  \n",
            " 62  Subflow Fwd Packets           539616 non-null  int64  \n",
            " 63   Subflow Fwd Bytes            539616 non-null  int64  \n",
            " 64   Subflow Bwd Packets          539616 non-null  int64  \n",
            " 65   Subflow Bwd Bytes            539616 non-null  int64  \n",
            " 66  Init_Win_bytes_forward        539616 non-null  int64  \n",
            " 67   Init_Win_bytes_backward      539616 non-null  int64  \n",
            " 68   act_data_pkt_fwd             539616 non-null  int64  \n",
            " 69   min_seg_size_forward         539616 non-null  int64  \n",
            " 70  Active Mean                   539616 non-null  float64\n",
            " 71   Active Std                   539616 non-null  float64\n",
            " 72   Active Max                   539616 non-null  int64  \n",
            " 73   Active Min                   539616 non-null  int64  \n",
            " 74  Idle Mean                     539616 non-null  float64\n",
            " 75   Idle Std                     539616 non-null  float64\n",
            " 76   Idle Max                     539616 non-null  int64  \n",
            " 77   Idle Min                     539616 non-null  int64  \n",
            " 78  Label                         539616 non-null  object \n",
            "dtypes: float64(24), int64(54), object(1)\n",
            "memory usage: 325.2+ MB\n"
          ]
        }
      ],
      "source": [
        "data.info()"
      ]
    },
    {
      "cell_type": "markdown",
      "metadata": {
        "id": "aVgK9BHGiF6Z"
      },
      "source": [
        "Категориальные переменные в датафрейме отсутствуют. Данных 539616 строк, это достаточно большой объем для обучения модели."
      ]
    },
    {
      "cell_type": "markdown",
      "metadata": {
        "id": "IqLtLgC-mDs1"
      },
      "source": [
        "Проверим данные на бесконечные значения, для этого выполним код, где такие значения будут заменены на Nan:"
      ]
    },
    {
      "cell_type": "code",
      "execution_count": null,
      "metadata": {
        "id": "DrwpAZszpuyY"
      },
      "outputs": [],
      "source": [
        "data.replace([np.inf, -np.inf], np.nan, inplace=True)"
      ]
    },
    {
      "cell_type": "markdown",
      "metadata": {
        "id": "SXU4irdcdwXM"
      },
      "source": [
        "Посмотрим, сколько всего пропусков в данных с учетом замененных значений:"
      ]
    },
    {
      "cell_type": "code",
      "execution_count": null,
      "metadata": {
        "colab": {
          "base_uri": "https://localhost:8080/"
        },
        "id": "8b6K041HdoBw",
        "outputId": "7ef534a4-6f07-4e9c-e574-44f3b0397776"
      },
      "outputs": [
        {
          "data": {
            "text/plain": [
              "1468"
            ]
          },
          "execution_count": 9,
          "metadata": {},
          "output_type": "execute_result"
        }
      ],
      "source": [
        "data.isnull().sum().sum()"
      ]
    },
    {
      "cell_type": "markdown",
      "metadata": {
        "id": "tL7EzSozdm_Q"
      },
      "source": [
        "Заполним пропуски автоматическим способом на стадии разделения модели на обучающий и тестовый набор."
      ]
    },
    {
      "cell_type": "code",
      "execution_count": null,
      "metadata": {
        "colab": {
          "base_uri": "https://localhost:8080/"
        },
        "id": "5rQasJdGmXGu",
        "outputId": "f2269a26-5a4c-46df-cac3-bcab9122a7d8"
      },
      "outputs": [
        {
          "data": {
            "text/plain": [
              "(539616, 79)"
            ]
          },
          "execution_count": 10,
          "metadata": {},
          "output_type": "execute_result"
        }
      ],
      "source": [
        "data.shape"
      ]
    },
    {
      "cell_type": "markdown",
      "metadata": {
        "id": "1zI4xhRHmfxG"
      },
      "source": [
        "Проверим датасет на дубликаты:"
      ]
    },
    {
      "cell_type": "code",
      "execution_count": null,
      "metadata": {
        "colab": {
          "base_uri": "https://localhost:8080/"
        },
        "id": "S3syrUw3mYhW",
        "outputId": "5a9fd183-658e-4f3a-8b0c-2d2f543e0783"
      },
      "outputs": [
        {
          "name": "stdout",
          "output_type": "stream",
          "text": [
            "Найдены дубликаты в data.\n",
            "(64601, 79)\n"
          ]
        }
      ],
      "source": [
        "duplicates = data[data.duplicated()]\n",
        "\n",
        "if duplicates.empty:\n",
        "    print(\"Дубликатов в data не найдено.\")\n",
        "else:\n",
        "    print(\"Найдены дубликаты в data.\")\n",
        "    print(duplicates.shape)"
      ]
    },
    {
      "cell_type": "markdown",
      "metadata": {
        "id": "QLPHXaZqm8i5"
      },
      "source": [
        "В данных оказалось много дублирующих значений. Удалим их из датасета:"
      ]
    },
    {
      "cell_type": "code",
      "execution_count": null,
      "metadata": {
        "id": "OCqeh20emebc"
      },
      "outputs": [],
      "source": [
        "data = data.drop_duplicates()"
      ]
    },
    {
      "cell_type": "code",
      "execution_count": null,
      "metadata": {
        "colab": {
          "base_uri": "https://localhost:8080/"
        },
        "id": "nF7U6E2IoXaT",
        "outputId": "450c4908-acda-4f4f-e7dd-4c3a68301ff7"
      },
      "outputs": [
        {
          "data": {
            "text/plain": [
              "(475015, 79)"
            ]
          },
          "execution_count": 13,
          "metadata": {},
          "output_type": "execute_result"
        }
      ],
      "source": [
        "data.shape"
      ]
    },
    {
      "cell_type": "markdown",
      "metadata": {
        "id": "HvQscXiwtYG_"
      },
      "source": [
        "# Исследовательский анализ (EDA)"
      ]
    },
    {
      "cell_type": "markdown",
      "metadata": {
        "id": "VVYnCjgIosr4"
      },
      "source": [
        "## Распределение целевого признака"
      ]
    },
    {
      "cell_type": "code",
      "execution_count": null,
      "metadata": {
        "id": "zxjsToEvGdc6"
      },
      "outputs": [],
      "source": [
        "label_counts= data['Label'].value_counts()"
      ]
    },
    {
      "cell_type": "code",
      "execution_count": null,
      "metadata": {
        "id": "cxqkZ2Hc81KB"
      },
      "outputs": [],
      "source": [
        "label_percentages = (label_counts/len(data)) * 100"
      ]
    },
    {
      "cell_type": "code",
      "execution_count": null,
      "metadata": {
        "id": "4mnTAHgO89BL"
      },
      "outputs": [],
      "source": [
        "label_distribution = pd.DataFrame({'Label': label_counts.index, 'Количество в data': label_counts.values, 'Процент': label_percentages.values})"
      ]
    },
    {
      "cell_type": "code",
      "execution_count": null,
      "metadata": {
        "colab": {
          "base_uri": "https://localhost:8080/",
          "height": 519
        },
        "id": "6jI1Ict1887M",
        "outputId": "cbe1760f-a3ce-4ed4-f4ff-ea093767b485"
      },
      "outputs": [
        {
          "data": {
            "text/html": [
              "\n",
              "  <div id=\"df-d6f26c86-aa5d-4760-9bc4-3b626d6629c4\" class=\"colab-df-container\">\n",
              "    <div>\n",
              "<style scoped>\n",
              "    .dataframe tbody tr th:only-of-type {\n",
              "        vertical-align: middle;\n",
              "    }\n",
              "\n",
              "    .dataframe tbody tr th {\n",
              "        vertical-align: top;\n",
              "    }\n",
              "\n",
              "    .dataframe thead th {\n",
              "        text-align: right;\n",
              "    }\n",
              "</style>\n",
              "<table border=\"1\" class=\"dataframe\">\n",
              "  <thead>\n",
              "    <tr style=\"text-align: right;\">\n",
              "      <th></th>\n",
              "      <th>Label</th>\n",
              "      <th>Количество в data</th>\n",
              "      <th>Процент</th>\n",
              "    </tr>\n",
              "  </thead>\n",
              "  <tbody>\n",
              "    <tr>\n",
              "      <th>0</th>\n",
              "      <td>BENIGN</td>\n",
              "      <td>232809</td>\n",
              "      <td>49.010873</td>\n",
              "    </tr>\n",
              "    <tr>\n",
              "      <th>1</th>\n",
              "      <td>DoS Hulk</td>\n",
              "      <td>87251</td>\n",
              "      <td>18.368052</td>\n",
              "    </tr>\n",
              "    <tr>\n",
              "      <th>2</th>\n",
              "      <td>DDoS</td>\n",
              "      <td>64364</td>\n",
              "      <td>13.549888</td>\n",
              "    </tr>\n",
              "    <tr>\n",
              "      <th>3</th>\n",
              "      <td>PortScan</td>\n",
              "      <td>56397</td>\n",
              "      <td>11.872678</td>\n",
              "    </tr>\n",
              "    <tr>\n",
              "      <th>4</th>\n",
              "      <td>DoS GoldenEye</td>\n",
              "      <td>10286</td>\n",
              "      <td>2.165405</td>\n",
              "    </tr>\n",
              "    <tr>\n",
              "      <th>5</th>\n",
              "      <td>FTP-Patator</td>\n",
              "      <td>5933</td>\n",
              "      <td>1.249013</td>\n",
              "    </tr>\n",
              "    <tr>\n",
              "      <th>6</th>\n",
              "      <td>DoS slowloris</td>\n",
              "      <td>5385</td>\n",
              "      <td>1.133648</td>\n",
              "    </tr>\n",
              "    <tr>\n",
              "      <th>7</th>\n",
              "      <td>DoS Slowhttptest</td>\n",
              "      <td>5228</td>\n",
              "      <td>1.100597</td>\n",
              "    </tr>\n",
              "    <tr>\n",
              "      <th>8</th>\n",
              "      <td>SSH-Patator</td>\n",
              "      <td>3219</td>\n",
              "      <td>0.677663</td>\n",
              "    </tr>\n",
              "    <tr>\n",
              "      <th>9</th>\n",
              "      <td>Bot</td>\n",
              "      <td>1953</td>\n",
              "      <td>0.411145</td>\n",
              "    </tr>\n",
              "    <tr>\n",
              "      <th>10</th>\n",
              "      <td>Web Attack � Brute Force</td>\n",
              "      <td>1470</td>\n",
              "      <td>0.309464</td>\n",
              "    </tr>\n",
              "    <tr>\n",
              "      <th>11</th>\n",
              "      <td>Web Attack � XSS</td>\n",
              "      <td>652</td>\n",
              "      <td>0.137259</td>\n",
              "    </tr>\n",
              "    <tr>\n",
              "      <th>12</th>\n",
              "      <td>Infiltration</td>\n",
              "      <td>36</td>\n",
              "      <td>0.007579</td>\n",
              "    </tr>\n",
              "    <tr>\n",
              "      <th>13</th>\n",
              "      <td>Web Attack � Sql Injection</td>\n",
              "      <td>21</td>\n",
              "      <td>0.004421</td>\n",
              "    </tr>\n",
              "    <tr>\n",
              "      <th>14</th>\n",
              "      <td>Heartbleed</td>\n",
              "      <td>11</td>\n",
              "      <td>0.002316</td>\n",
              "    </tr>\n",
              "  </tbody>\n",
              "</table>\n",
              "</div>\n",
              "    <div class=\"colab-df-buttons\">\n",
              "\n",
              "  <div class=\"colab-df-container\">\n",
              "    <button class=\"colab-df-convert\" onclick=\"convertToInteractive('df-d6f26c86-aa5d-4760-9bc4-3b626d6629c4')\"\n",
              "            title=\"Convert this dataframe to an interactive table.\"\n",
              "            style=\"display:none;\">\n",
              "\n",
              "  <svg xmlns=\"http://www.w3.org/2000/svg\" height=\"24px\" viewBox=\"0 -960 960 960\">\n",
              "    <path d=\"M120-120v-720h720v720H120Zm60-500h600v-160H180v160Zm220 220h160v-160H400v160Zm0 220h160v-160H400v160ZM180-400h160v-160H180v160Zm440 0h160v-160H620v160ZM180-180h160v-160H180v160Zm440 0h160v-160H620v160Z\"/>\n",
              "  </svg>\n",
              "    </button>\n",
              "\n",
              "  <style>\n",
              "    .colab-df-container {\n",
              "      display:flex;\n",
              "      gap: 12px;\n",
              "    }\n",
              "\n",
              "    .colab-df-convert {\n",
              "      background-color: #E8F0FE;\n",
              "      border: none;\n",
              "      border-radius: 50%;\n",
              "      cursor: pointer;\n",
              "      display: none;\n",
              "      fill: #1967D2;\n",
              "      height: 32px;\n",
              "      padding: 0 0 0 0;\n",
              "      width: 32px;\n",
              "    }\n",
              "\n",
              "    .colab-df-convert:hover {\n",
              "      background-color: #E2EBFA;\n",
              "      box-shadow: 0px 1px 2px rgba(60, 64, 67, 0.3), 0px 1px 3px 1px rgba(60, 64, 67, 0.15);\n",
              "      fill: #174EA6;\n",
              "    }\n",
              "\n",
              "    .colab-df-buttons div {\n",
              "      margin-bottom: 4px;\n",
              "    }\n",
              "\n",
              "    [theme=dark] .colab-df-convert {\n",
              "      background-color: #3B4455;\n",
              "      fill: #D2E3FC;\n",
              "    }\n",
              "\n",
              "    [theme=dark] .colab-df-convert:hover {\n",
              "      background-color: #434B5C;\n",
              "      box-shadow: 0px 1px 3px 1px rgba(0, 0, 0, 0.15);\n",
              "      filter: drop-shadow(0px 1px 2px rgba(0, 0, 0, 0.3));\n",
              "      fill: #FFFFFF;\n",
              "    }\n",
              "  </style>\n",
              "\n",
              "    <script>\n",
              "      const buttonEl =\n",
              "        document.querySelector('#df-d6f26c86-aa5d-4760-9bc4-3b626d6629c4 button.colab-df-convert');\n",
              "      buttonEl.style.display =\n",
              "        google.colab.kernel.accessAllowed ? 'block' : 'none';\n",
              "\n",
              "      async function convertToInteractive(key) {\n",
              "        const element = document.querySelector('#df-d6f26c86-aa5d-4760-9bc4-3b626d6629c4');\n",
              "        const dataTable =\n",
              "          await google.colab.kernel.invokeFunction('convertToInteractive',\n",
              "                                                    [key], {});\n",
              "        if (!dataTable) return;\n",
              "\n",
              "        const docLinkHtml = 'Like what you see? Visit the ' +\n",
              "          '<a target=\"_blank\" href=https://colab.research.google.com/notebooks/data_table.ipynb>data table notebook</a>'\n",
              "          + ' to learn more about interactive tables.';\n",
              "        element.innerHTML = '';\n",
              "        dataTable['output_type'] = 'display_data';\n",
              "        await google.colab.output.renderOutput(dataTable, element);\n",
              "        const docLink = document.createElement('div');\n",
              "        docLink.innerHTML = docLinkHtml;\n",
              "        element.appendChild(docLink);\n",
              "      }\n",
              "    </script>\n",
              "  </div>\n",
              "\n",
              "\n",
              "<div id=\"df-952bbec5-2881-499c-a994-52d9787e44d7\">\n",
              "  <button class=\"colab-df-quickchart\" onclick=\"quickchart('df-952bbec5-2881-499c-a994-52d9787e44d7')\"\n",
              "            title=\"Suggest charts.\"\n",
              "            style=\"display:none;\">\n",
              "\n",
              "<svg xmlns=\"http://www.w3.org/2000/svg\" height=\"24px\"viewBox=\"0 0 24 24\"\n",
              "     width=\"24px\">\n",
              "    <g>\n",
              "        <path d=\"M19 3H5c-1.1 0-2 .9-2 2v14c0 1.1.9 2 2 2h14c1.1 0 2-.9 2-2V5c0-1.1-.9-2-2-2zM9 17H7v-7h2v7zm4 0h-2V7h2v10zm4 0h-2v-4h2v4z\"/>\n",
              "    </g>\n",
              "</svg>\n",
              "  </button>\n",
              "\n",
              "<style>\n",
              "  .colab-df-quickchart {\n",
              "      --bg-color: #E8F0FE;\n",
              "      --fill-color: #1967D2;\n",
              "      --hover-bg-color: #E2EBFA;\n",
              "      --hover-fill-color: #174EA6;\n",
              "      --disabled-fill-color: #AAA;\n",
              "      --disabled-bg-color: #DDD;\n",
              "  }\n",
              "\n",
              "  [theme=dark] .colab-df-quickchart {\n",
              "      --bg-color: #3B4455;\n",
              "      --fill-color: #D2E3FC;\n",
              "      --hover-bg-color: #434B5C;\n",
              "      --hover-fill-color: #FFFFFF;\n",
              "      --disabled-bg-color: #3B4455;\n",
              "      --disabled-fill-color: #666;\n",
              "  }\n",
              "\n",
              "  .colab-df-quickchart {\n",
              "    background-color: var(--bg-color);\n",
              "    border: none;\n",
              "    border-radius: 50%;\n",
              "    cursor: pointer;\n",
              "    display: none;\n",
              "    fill: var(--fill-color);\n",
              "    height: 32px;\n",
              "    padding: 0;\n",
              "    width: 32px;\n",
              "  }\n",
              "\n",
              "  .colab-df-quickchart:hover {\n",
              "    background-color: var(--hover-bg-color);\n",
              "    box-shadow: 0 1px 2px rgba(60, 64, 67, 0.3), 0 1px 3px 1px rgba(60, 64, 67, 0.15);\n",
              "    fill: var(--button-hover-fill-color);\n",
              "  }\n",
              "\n",
              "  .colab-df-quickchart-complete:disabled,\n",
              "  .colab-df-quickchart-complete:disabled:hover {\n",
              "    background-color: var(--disabled-bg-color);\n",
              "    fill: var(--disabled-fill-color);\n",
              "    box-shadow: none;\n",
              "  }\n",
              "\n",
              "  .colab-df-spinner {\n",
              "    border: 2px solid var(--fill-color);\n",
              "    border-color: transparent;\n",
              "    border-bottom-color: var(--fill-color);\n",
              "    animation:\n",
              "      spin 1s steps(1) infinite;\n",
              "  }\n",
              "\n",
              "  @keyframes spin {\n",
              "    0% {\n",
              "      border-color: transparent;\n",
              "      border-bottom-color: var(--fill-color);\n",
              "      border-left-color: var(--fill-color);\n",
              "    }\n",
              "    20% {\n",
              "      border-color: transparent;\n",
              "      border-left-color: var(--fill-color);\n",
              "      border-top-color: var(--fill-color);\n",
              "    }\n",
              "    30% {\n",
              "      border-color: transparent;\n",
              "      border-left-color: var(--fill-color);\n",
              "      border-top-color: var(--fill-color);\n",
              "      border-right-color: var(--fill-color);\n",
              "    }\n",
              "    40% {\n",
              "      border-color: transparent;\n",
              "      border-right-color: var(--fill-color);\n",
              "      border-top-color: var(--fill-color);\n",
              "    }\n",
              "    60% {\n",
              "      border-color: transparent;\n",
              "      border-right-color: var(--fill-color);\n",
              "    }\n",
              "    80% {\n",
              "      border-color: transparent;\n",
              "      border-right-color: var(--fill-color);\n",
              "      border-bottom-color: var(--fill-color);\n",
              "    }\n",
              "    90% {\n",
              "      border-color: transparent;\n",
              "      border-bottom-color: var(--fill-color);\n",
              "    }\n",
              "  }\n",
              "</style>\n",
              "\n",
              "  <script>\n",
              "    async function quickchart(key) {\n",
              "      const quickchartButtonEl =\n",
              "        document.querySelector('#' + key + ' button');\n",
              "      quickchartButtonEl.disabled = true;  // To prevent multiple clicks.\n",
              "      quickchartButtonEl.classList.add('colab-df-spinner');\n",
              "      try {\n",
              "        const charts = await google.colab.kernel.invokeFunction(\n",
              "            'suggestCharts', [key], {});\n",
              "      } catch (error) {\n",
              "        console.error('Error during call to suggestCharts:', error);\n",
              "      }\n",
              "      quickchartButtonEl.classList.remove('colab-df-spinner');\n",
              "      quickchartButtonEl.classList.add('colab-df-quickchart-complete');\n",
              "    }\n",
              "    (() => {\n",
              "      let quickchartButtonEl =\n",
              "        document.querySelector('#df-952bbec5-2881-499c-a994-52d9787e44d7 button');\n",
              "      quickchartButtonEl.style.display =\n",
              "        google.colab.kernel.accessAllowed ? 'block' : 'none';\n",
              "    })();\n",
              "  </script>\n",
              "</div>\n",
              "    </div>\n",
              "  </div>\n"
            ],
            "text/plain": [
              "                         Label  Количество в data    Процент\n",
              "0                       BENIGN             232809  49.010873\n",
              "1                     DoS Hulk              87251  18.368052\n",
              "2                         DDoS              64364  13.549888\n",
              "3                     PortScan              56397  11.872678\n",
              "4                DoS GoldenEye              10286   2.165405\n",
              "5                  FTP-Patator               5933   1.249013\n",
              "6                DoS slowloris               5385   1.133648\n",
              "7             DoS Slowhttptest               5228   1.100597\n",
              "8                  SSH-Patator               3219   0.677663\n",
              "9                          Bot               1953   0.411145\n",
              "10    Web Attack � Brute Force               1470   0.309464\n",
              "11            Web Attack � XSS                652   0.137259\n",
              "12                Infiltration                 36   0.007579\n",
              "13  Web Attack � Sql Injection                 21   0.004421\n",
              "14                  Heartbleed                 11   0.002316"
            ]
          },
          "execution_count": 17,
          "metadata": {},
          "output_type": "execute_result"
        }
      ],
      "source": [
        "label_distribution"
      ]
    },
    {
      "cell_type": "markdown",
      "metadata": {
        "id": "G6561Gn5qtLj"
      },
      "source": [
        "Всего у нас 15 лейблов для входящего трафика. Целевой признак разспределен неравномерно, больше всего сведений в датасете о BENIGN (нормальном трафике), таких данных почти 50%. Большинство остальных лейблов составляет в датасете всего 1-10%, есть метки трафика, которых в датасете совсем незначительное количество (менее 0,01%) - это Infiltration, Web Attack � Sql Injection, Heartbleed."
      ]
    },
    {
      "cell_type": "markdown",
      "metadata": {
        "id": "UU7FHAoiIXGA"
      },
      "source": [
        "## Уменьшение размерности (PCA)"
      ]
    },
    {
      "cell_type": "markdown",
      "metadata": {
        "id": "NJLYthuPGEgB"
      },
      "source": [
        "В датасете 78 признаков, их проанализировать и выявить в них закономерности практически невозможно, необходимо уменьшить размер данных. Можно это сделать с помощью PCA. Этот метод позволяет не только сократить размерность данных, но и улучшенить производительности алгоритмов машинного обучения, а также устраненить мультиколлинеарности: PCA может использоваться для устранения мультиколлинеарность."
      ]
    },
    {
      "cell_type": "markdown",
      "metadata": {
        "id": "4Z0TS_WpI1AW"
      },
      "source": [
        "Для начала необходимо определить количество компанент, сделает это с помощью метода \"локтя\":"
      ]
    },
    {
      "cell_type": "code",
      "execution_count": null,
      "metadata": {
        "colab": {
          "base_uri": "https://localhost:8080/",
          "height": 472
        },
        "id": "oz6KVDsR4BOk",
        "outputId": "e685a7eb-f406-4b31-81c6-93c4a9a22215"
      },
      "outputs": [
        {
          "data": {
            "image/png": "[encoded data removed]",
            "text/plain": [
              "<Figure size 640x480 with 1 Axes>"
            ]
          },
          "metadata": {},
          "output_type": "display_data"
        }
      ],
      "source": [
        "num_components = 10\n",
        "pca = PCA(n_components=num_components)\n",
        "\n",
        "# Применим PCA к данным\n",
        "pca_result = pca.fit_transform(data.dropna().drop('Label', axis=1))\n",
        "\n",
        "# Получаем объясненную дисперсию для каждой компоненты\n",
        "explained_variance = pca.explained_variance_ratio_\n",
        "\n",
        "# Визуализация:\n",
        "import matplotlib.pyplot as plt\n",
        "plt.plot(range(1, len(explained_variance) + 1), explained_variance, marker='o')\n",
        "plt.xlabel('Количество компонент')\n",
        "plt.ylabel('Объясненная дисперсия')\n",
        "plt.title('Объясненная дисперсия по компонентам')\n",
        "plt.show()\n"
      ]
    },
    {
      "cell_type": "markdown",
      "metadata": {
        "id": "LBQpMYb5J3G5"
      },
      "source": [
        "Это значит, что с использованием первых двух главных компонентов (PC1 и PC2) сохраняется 90% информации из исходных данных, потеря составит 10% информации. Чтоб сохранить 95% данных можно выбрать 3 компоненты."
      ]
    },
    {
      "cell_type": "markdown",
      "metadata": {
        "id": "SEQmL34v2S4T"
      },
      "source": [
        "# Baseline"
      ]
    },
    {
      "cell_type": "markdown",
      "metadata": {
        "id": "0l8jgh_m2XsQ"
      },
      "source": [
        "## Распределение на целевой признак и фичи"
      ]
    },
    {
      "cell_type": "code",
      "execution_count": null,
      "metadata": {
        "id": "XCu6VN-W1Z_S"
      },
      "outputs": [],
      "source": [
        "X = data.drop('Label', axis = 1)"
      ]
    },
    {
      "cell_type": "code",
      "execution_count": null,
      "metadata": {
        "id": "_gPoQaTh3FA0"
      },
      "outputs": [],
      "source": [
        "y = data['Label']"
      ]
    },
    {
      "cell_type": "markdown",
      "metadata": {
        "id": "mh0xfnWHpMEO"
      },
      "source": [
        "Заполним пропущенные значения:"
      ]
    },
    {
      "cell_type": "code",
      "execution_count": null,
      "metadata": {
        "id": "BIsf4qgUowKk"
      },
      "outputs": [],
      "source": [
        "imputer = SimpleImputer(strategy='median')"
      ]
    },
    {
      "cell_type": "code",
      "execution_count": null,
      "metadata": {
        "id": "o_dRDKE1o3H8"
      },
      "outputs": [],
      "source": [
        "X_imputed = imputer.fit_transform(X)"
      ]
    },
    {
      "cell_type": "markdown",
      "metadata": {
        "id": "cW0mNh-qMblF"
      },
      "source": [
        "Закодируем целевой признак:"
      ]
    },
    {
      "cell_type": "code",
      "execution_count": null,
      "metadata": {
        "id": "_x0vRzLXMfaR"
      },
      "outputs": [],
      "source": [
        "label_encoder = LabelEncoder()\n",
        "y_enc = label_encoder.fit_transform(y)"
      ]
    },
    {
      "cell_type": "code",
      "execution_count": null,
      "metadata": {
        "id": "3uU0d2b7ut6U"
      },
      "outputs": [],
      "source": [
        "X_train_val, X_test, y_train_val, y_test = train_test_split(X_imputed, y_enc, test_size=0.2, stratify=y_enc, random_state=42)"
      ]
    },
    {
      "cell_type": "code",
      "execution_count": null,
      "metadata": {
        "colab": {
          "base_uri": "https://localhost:8080/"
        },
        "id": "UIwEmSc74oiH",
        "outputId": "c010c05a-b320-4cb1-c224-223a814f508c"
      },
      "outputs": [
        {
          "data": {
            "text/plain": [
              "(380012, 78)"
            ]
          },
          "execution_count": 25,
          "metadata": {},
          "output_type": "execute_result"
        }
      ],
      "source": [
        "X_train_val.shape"
      ]
    },
    {
      "cell_type": "code",
      "execution_count": null,
      "metadata": {
        "colab": {
          "base_uri": "https://localhost:8080/"
        },
        "id": "tPvOR6jb4tCJ",
        "outputId": "4fa95aaf-2791-49e9-f2f2-81d617f4b5cd"
      },
      "outputs": [
        {
          "data": {
            "text/plain": [
              "(95003, 78)"
            ]
          },
          "execution_count": 26,
          "metadata": {},
          "output_type": "execute_result"
        }
      ],
      "source": [
        "X_test.shape"
      ]
    },
    {
      "cell_type": "markdown",
      "metadata": {
        "id": "Y5g7aKOHMTcD"
      },
      "source": [
        "Разделяем данные на обучающий и валидационный наборы:"
      ]
    },
    {
      "cell_type": "code",
      "execution_count": null,
      "metadata": {
        "id": "E-64-hph-gAW"
      },
      "outputs": [],
      "source": [
        "X_train, X_valid, y_train, y_valid = train_test_split(X_train_val, y_train_val, test_size=0.2, stratify=y_train_val,\n",
        "                                                      random_state=42)"
      ]
    },
    {
      "cell_type": "code",
      "execution_count": null,
      "metadata": {
        "colab": {
          "base_uri": "https://localhost:8080/"
        },
        "id": "cRgWi2KCA6XK",
        "outputId": "82255647-c9d8-4d00-92a5-50174a826a7c"
      },
      "outputs": [
        {
          "data": {
            "text/plain": [
              "(304009, 78)"
            ]
          },
          "execution_count": 28,
          "metadata": {},
          "output_type": "execute_result"
        }
      ],
      "source": [
        "X_train.shape"
      ]
    },
    {
      "cell_type": "code",
      "execution_count": null,
      "metadata": {
        "colab": {
          "base_uri": "https://localhost:8080/"
        },
        "id": "vtnLHGHwBClI",
        "outputId": "ad45b5a4-7e0a-49d3-e761-d17312ae6d67"
      },
      "outputs": [
        {
          "data": {
            "text/plain": [
              "(76003, 78)"
            ]
          },
          "execution_count": 29,
          "metadata": {},
          "output_type": "execute_result"
        }
      ],
      "source": [
        "X_valid.shape"
      ]
    },
    {
      "cell_type": "markdown",
      "metadata": {
        "id": "tzjccl3izDRq"
      },
      "source": [
        "## Обучение"
      ]
    },
    {
      "cell_type": "markdown",
      "metadata": {
        "id": "B7WGWfhO2xJx"
      },
      "source": [
        "Используем простую линейную модель и создадим функцию для обучения, предсказания и оценки результатов:"
      ]
    },
    {
      "cell_type": "code",
      "execution_count": null,
      "metadata": {
        "id": "gHxgcrXfzLbq"
      },
      "outputs": [],
      "source": [
        "# стандартизация признаков для линейной модели\n",
        "scaler = StandardScaler()\n",
        "X_train_scaled = scaler.fit_transform(X_train)\n",
        "X_valid_scaled = scaler.transform(X_valid)"
      ]
    },
    {
      "cell_type": "code",
      "execution_count": null,
      "metadata": {
        "id": "iylkbc1cyKMf"
      },
      "outputs": [],
      "source": [
        "def fit_predict(model, X_train, y_train, X_valid, y_valid):\n",
        "  model = model\n",
        "  model.fit(X_train, y_train)\n",
        "  y_pred = model.predict(X_valid)\n",
        "  y_pred_decoded = label_encoder.inverse_transform(y_pred)\n",
        "  y_valid_decoded = label_encoder.inverse_transform(y_valid)\n",
        "  accuracy = accuracy_score(y_valid_decoded, y_pred_decoded)\n",
        "  return print(classification_report(y_valid_decoded, y_pred_decoded))"
      ]
    },
    {
      "cell_type": "code",
      "execution_count": null,
      "metadata": {
        "colab": {
          "base_uri": "https://localhost:8080/"
        },
        "id": "moq1VXWpzf24",
        "outputId": "09168a8f-63ad-426c-aabe-e636910099ff"
      },
      "outputs": [
        {
          "name": "stderr",
          "output_type": "stream",
          "text": [
            "/usr/local/lib/python3.10/dist-packages/sklearn/linear_model/_logistic.py:458: ConvergenceWarning: lbfgs failed to converge (status=1):\n",
            "STOP: TOTAL NO. of ITERATIONS REACHED LIMIT.\n",
            "\n",
            "Increase the number of iterations (max_iter) or scale the data as shown in:\n",
            "    https://scikit-learn.org/stable/modules/preprocessing.html\n",
            "Please also refer to the documentation for alternative solver options:\n",
            "    https://scikit-learn.org/stable/modules/linear_model.html#logistic-regression\n",
            "  n_iter_i = _check_optimize_result(\n",
            "/usr/local/lib/python3.10/dist-packages/sklearn/metrics/_classification.py:1344: UndefinedMetricWarning: Precision and F-score are ill-defined and being set to 0.0 in labels with no predicted samples. Use `zero_division` parameter to control this behavior.\n",
            "  _warn_prf(average, modifier, msg_start, len(result))\n",
            "/usr/local/lib/python3.10/dist-packages/sklearn/metrics/_classification.py:1344: UndefinedMetricWarning: Precision and F-score are ill-defined and being set to 0.0 in labels with no predicted samples. Use `zero_division` parameter to control this behavior.\n",
            "  _warn_prf(average, modifier, msg_start, len(result))\n"
          ]
        },
        {
          "name": "stdout",
          "output_type": "stream",
          "text": [
            "                            precision    recall  f1-score   support\n",
            "\n",
            "                    BENIGN       0.98      0.95      0.96     37250\n",
            "                       Bot       0.67      0.03      0.05       312\n",
            "                      DDoS       0.99      1.00      0.99     10298\n",
            "             DoS GoldenEye       0.97      0.89      0.93      1646\n",
            "                  DoS Hulk       0.95      1.00      0.97     13960\n",
            "          DoS Slowhttptest       0.92      0.89      0.91       837\n",
            "             DoS slowloris       0.89      0.89      0.89       862\n",
            "               FTP-Patator       0.88      0.99      0.93       949\n",
            "                Heartbleed       1.00      1.00      1.00         2\n",
            "              Infiltration       1.00      0.17      0.29         6\n",
            "                  PortScan       0.92      1.00      0.96      9024\n",
            "               SSH-Patator       0.98      0.92      0.95       515\n",
            "  Web Attack � Brute Force       0.00      0.00      0.00       235\n",
            "Web Attack � Sql Injection       0.00      0.00      0.00         3\n",
            "          Web Attack � XSS       0.00      0.00      0.00       104\n",
            "\n",
            "                  accuracy                           0.96     76003\n",
            "                 macro avg       0.74      0.65      0.66     76003\n",
            "              weighted avg       0.96      0.96      0.96     76003\n",
            "\n"
          ]
        },
        {
          "name": "stderr",
          "output_type": "stream",
          "text": [
            "/usr/local/lib/python3.10/dist-packages/sklearn/metrics/_classification.py:1344: UndefinedMetricWarning: Precision and F-score are ill-defined and being set to 0.0 in labels with no predicted samples. Use `zero_division` parameter to control this behavior.\n",
            "  _warn_prf(average, modifier, msg_start, len(result))\n"
          ]
        }
      ],
      "source": [
        "fit_predict(LogisticRegression(), X_train_scaled, y_train, X_valid_scaled, y_valid)"
      ]
    },
    {
      "cell_type": "markdown",
      "metadata": {
        "id": "RK7R8Ras3kI4"
      },
      "source": [
        "Есть классы, которые модель определяет очень хорошо. Общая точность модели говорит о том, что 96% трафика идентифицировано верно. Но есть классы, которые модель не может определить, например Web Attack � Sql Injection, Web Attack � XSS, Web Attack � Brute Forc."
      ]
    },
    {
      "cell_type": "markdown",
      "metadata": {
        "id": "NeNRUiMu4JhZ"
      },
      "source": [
        "Стоит попробовать более сложные модели, например бустинговые."
      ]
    },
    {
      "cell_type": "markdown",
      "metadata": {
        "id": "14Yvqo79SN6Y"
      },
      "source": [
        "# Моделирование"
      ]
    },
    {
      "cell_type": "markdown",
      "metadata": {
        "id": "FWTGWwv0Sgmc"
      },
      "source": [
        "## Бустинговые модели"
      ]
    },
    {
      "cell_type": "markdown",
      "metadata": {
        "id": "dqzsvl37TkAw"
      },
      "source": [
        "### XGBClassifier"
      ]
    },
    {
      "cell_type": "code",
      "execution_count": null,
      "metadata": {
        "id": "2zWuHRWFSn1z"
      },
      "outputs": [],
      "source": [
        "xgb_model = xgb.XGBClassifier()"
      ]
    },
    {
      "cell_type": "code",
      "execution_count": null,
      "metadata": {
        "colab": {
          "base_uri": "https://localhost:8080/"
        },
        "id": "EZGTjAKe0ltY",
        "outputId": "63cf42d4-e033-4758-8d02-883f991689a0"
      },
      "outputs": [
        {
          "name": "stdout",
          "output_type": "stream",
          "text": [
            "                            precision    recall  f1-score   support\n",
            "\n",
            "                    BENIGN       1.00      1.00      1.00     37250\n",
            "                       Bot       0.96      0.98      0.97       312\n",
            "                      DDoS       1.00      1.00      1.00     10298\n",
            "             DoS GoldenEye       1.00      1.00      1.00      1646\n",
            "                  DoS Hulk       1.00      1.00      1.00     13960\n",
            "          DoS Slowhttptest       1.00      0.99      1.00       837\n",
            "             DoS slowloris       1.00      1.00      1.00       862\n",
            "               FTP-Patator       1.00      1.00      1.00       949\n",
            "                Heartbleed       1.00      0.50      0.67         2\n",
            "              Infiltration       1.00      0.33      0.50         6\n",
            "                  PortScan       1.00      1.00      1.00      9024\n",
            "               SSH-Patator       1.00      1.00      1.00       515\n",
            "  Web Attack � Brute Force       0.74      0.82      0.78       235\n",
            "Web Attack � Sql Injection       0.67      0.67      0.67         3\n",
            "          Web Attack � XSS       0.46      0.33      0.38       104\n",
            "\n",
            "                  accuracy                           1.00     76003\n",
            "                 macro avg       0.92      0.84      0.86     76003\n",
            "              weighted avg       1.00      1.00      1.00     76003\n",
            "\n"
          ]
        }
      ],
      "source": [
        "fit_predict(xgb_model, X_train_scaled, y_train, X_valid_scaled, y_valid)"
      ]
    },
    {
      "cell_type": "markdown",
      "metadata": {
        "id": "dcgHsiwhTpyt"
      },
      "source": [
        "### LGBMClassifier"
      ]
    },
    {
      "cell_type": "code",
      "execution_count": null,
      "metadata": {
        "id": "-3jNsJpJTotu"
      },
      "outputs": [],
      "source": [
        "lgb_model = lgb.LGBMClassifier(verbose=-1)"
      ]
    },
    {
      "cell_type": "code",
      "execution_count": null,
      "metadata": {
        "colab": {
          "base_uri": "https://localhost:8080/"
        },
        "id": "I_u6MSVQ07vj",
        "outputId": "d863cca5-ad5b-4f65-a512-84a5f4b04785"
      },
      "outputs": [
        {
          "name": "stdout",
          "output_type": "stream",
          "text": [
            "                            precision    recall  f1-score   support\n",
            "\n",
            "                    BENIGN       0.81      0.78      0.79     37250\n",
            "                       Bot       0.15      0.19      0.17       312\n",
            "                      DDoS       0.59      0.73      0.65     10298\n",
            "             DoS GoldenEye       0.00      0.00      0.00      1646\n",
            "                  DoS Hulk       0.70      0.60      0.65     13960\n",
            "          DoS Slowhttptest       0.65      0.07      0.13       837\n",
            "             DoS slowloris       0.00      0.00      0.00       862\n",
            "               FTP-Patator       0.08      0.01      0.01       949\n",
            "                Heartbleed       0.00      0.00      0.00         2\n",
            "              Infiltration       0.00      0.00      0.00         6\n",
            "                  PortScan       0.61      0.79      0.68      9024\n",
            "               SSH-Patator       0.00      0.00      0.00       515\n",
            "  Web Attack � Brute Force       0.00      0.00      0.00       235\n",
            "Web Attack � Sql Injection       0.00      0.00      0.00         3\n",
            "          Web Attack � XSS       0.00      0.00      0.00       104\n",
            "\n",
            "                  accuracy                           0.68     76003\n",
            "                 macro avg       0.24      0.21      0.21     76003\n",
            "              weighted avg       0.68      0.68      0.68     76003\n",
            "\n"
          ]
        }
      ],
      "source": [
        "fit_predict(lgb_model, X_train_scaled, y_train, X_valid_scaled, y_valid)"
      ]
    },
    {
      "cell_type": "markdown",
      "metadata": {
        "id": "-8j7DIeCXdIs"
      },
      "source": [
        "### CatBoostClassifier"
      ]
    },
    {
      "cell_type": "code",
      "execution_count": null,
      "metadata": {
        "id": "PkBAXveXWOE_"
      },
      "outputs": [],
      "source": [
        "cat_model = CatBoostClassifier(loss_function='MultiClass',  task_type='GPU', verbose=False)"
      ]
    },
    {
      "cell_type": "code",
      "execution_count": null,
      "metadata": {
        "colab": {
          "base_uri": "https://localhost:8080/"
        },
        "id": "MElBrJSV1AqN",
        "outputId": "2c9bef42-6307-462f-d810-fb809d118bf2"
      },
      "outputs": [
        {
          "name": "stderr",
          "output_type": "stream",
          "text": [
            "/usr/local/lib/python3.10/dist-packages/sklearn/preprocessing/_label.py:155: DataConversionWarning: A column-vector y was passed when a 1d array was expected. Please change the shape of y to (n_samples, ), for example using ravel().\n",
            "  y = column_or_1d(y, warn=True)\n"
          ]
        },
        {
          "name": "stdout",
          "output_type": "stream",
          "text": [
            "                            precision    recall  f1-score   support\n",
            "\n",
            "                    BENIGN       1.00      1.00      1.00     37250\n",
            "                       Bot       0.96      0.98      0.97       312\n",
            "                      DDoS       1.00      1.00      1.00     10298\n",
            "             DoS GoldenEye       1.00      1.00      1.00      1646\n",
            "                  DoS Hulk       1.00      1.00      1.00     13960\n",
            "          DoS Slowhttptest       1.00      0.99      0.99       837\n",
            "             DoS slowloris       1.00      1.00      1.00       862\n",
            "               FTP-Patator       1.00      1.00      1.00       949\n",
            "                Heartbleed       1.00      1.00      1.00         2\n",
            "              Infiltration       1.00      0.33      0.50         6\n",
            "                  PortScan       1.00      1.00      1.00      9024\n",
            "               SSH-Patator       1.00      1.00      1.00       515\n",
            "  Web Attack � Brute Force       0.72      0.81      0.76       235\n",
            "Web Attack � Sql Injection       0.67      0.67      0.67         3\n",
            "          Web Attack � XSS       0.40      0.29      0.34       104\n",
            "\n",
            "                  accuracy                           1.00     76003\n",
            "                 macro avg       0.92      0.87      0.88     76003\n",
            "              weighted avg       1.00      1.00      1.00     76003\n",
            "\n"
          ]
        }
      ],
      "source": [
        "fit_predict(cat_model, X_train_scaled, y_train, X_valid_scaled, y_valid)"
      ]
    },
    {
      "cell_type": "markdown",
      "metadata": {
        "id": "7um-FWC5VcUo"
      },
      "source": [
        "Бустинговая модель XGB показала очень хороший результат. Модель имеет высокую общую точность и хорошие оценки для большинства классов. Может определять все классы, в том числе \"Infiltration\", \"Web Attack - Brute Force\", \"Web Attack - Sql Injection\" и \"Web Attack - XSS\", результат CatBoost оказался чуть лучше, чем XGB, попробуем поэксперементировать с этой моделью и улучшить результат."
      ]
    },
    {
      "cell_type": "markdown",
      "metadata": {
        "id": "UGH7fDw_bHSw"
      },
      "source": [
        "## Стратегии улучшения результата"
      ]
    },
    {
      "cell_type": "markdown",
      "metadata": {
        "id": "6nRhNKGDbQvD"
      },
      "source": [
        "Посмотрим, как скажется применение PCA на метриках модели:"
      ]
    },
    {
      "cell_type": "code",
      "execution_count": null,
      "metadata": {
        "id": "rYfYNzXycQXp"
      },
      "outputs": [],
      "source": [
        "pca = PCA(n_components=3)"
      ]
    },
    {
      "cell_type": "code",
      "execution_count": null,
      "metadata": {
        "id": "owfK9Y3HbtLa"
      },
      "outputs": [],
      "source": [
        "X_train_pca = pca.fit_transform(X_train_scaled)\n",
        "X_val_pca = pca.transform(X_valid_scaled)"
      ]
    },
    {
      "cell_type": "code",
      "execution_count": null,
      "metadata": {
        "colab": {
          "base_uri": "https://localhost:8080/"
        },
        "id": "xoPvK5jd1KVh",
        "outputId": "7b2a2da4-2842-4fb0-86f3-b8fcce7d81e1"
      },
      "outputs": [
        {
          "name": "stderr",
          "output_type": "stream",
          "text": [
            "/usr/local/lib/python3.10/dist-packages/sklearn/preprocessing/_label.py:155: DataConversionWarning: A column-vector y was passed when a 1d array was expected. Please change the shape of y to (n_samples, ), for example using ravel().\n",
            "  y = column_or_1d(y, warn=True)\n",
            "/usr/local/lib/python3.10/dist-packages/sklearn/metrics/_classification.py:1344: UndefinedMetricWarning: Precision and F-score are ill-defined and being set to 0.0 in labels with no predicted samples. Use `zero_division` parameter to control this behavior.\n",
            "  _warn_prf(average, modifier, msg_start, len(result))\n",
            "/usr/local/lib/python3.10/dist-packages/sklearn/metrics/_classification.py:1344: UndefinedMetricWarning: Precision and F-score are ill-defined and being set to 0.0 in labels with no predicted samples. Use `zero_division` parameter to control this behavior.\n",
            "  _warn_prf(average, modifier, msg_start, len(result))\n"
          ]
        },
        {
          "name": "stdout",
          "output_type": "stream",
          "text": [
            "                            precision    recall  f1-score   support\n",
            "\n",
            "                    BENIGN       0.98      0.98      0.98     37250\n",
            "                       Bot       0.92      0.60      0.72       312\n",
            "                      DDoS       0.98      0.97      0.98     10298\n",
            "             DoS GoldenEye       0.90      0.87      0.88      1646\n",
            "                  DoS Hulk       0.97      0.97      0.97     13960\n",
            "          DoS Slowhttptest       0.98      0.97      0.98       837\n",
            "             DoS slowloris       0.91      0.93      0.92       862\n",
            "               FTP-Patator       1.00      0.99      0.99       949\n",
            "                Heartbleed       1.00      0.50      0.67         2\n",
            "              Infiltration       1.00      0.17      0.29         6\n",
            "                  PortScan       0.99      0.99      0.99      9024\n",
            "               SSH-Patator       0.94      0.97      0.95       515\n",
            "  Web Attack � Brute Force       0.48      0.78      0.59       235\n",
            "Web Attack � Sql Injection       0.00      0.00      0.00         3\n",
            "          Web Attack � XSS       0.00      0.00      0.00       104\n",
            "\n",
            "                  accuracy                           0.97     76003\n",
            "                 macro avg       0.80      0.71      0.73     76003\n",
            "              weighted avg       0.97      0.97      0.97     76003\n",
            "\n"
          ]
        },
        {
          "name": "stderr",
          "output_type": "stream",
          "text": [
            "/usr/local/lib/python3.10/dist-packages/sklearn/metrics/_classification.py:1344: UndefinedMetricWarning: Precision and F-score are ill-defined and being set to 0.0 in labels with no predicted samples. Use `zero_division` parameter to control this behavior.\n",
            "  _warn_prf(average, modifier, msg_start, len(result))\n"
          ]
        }
      ],
      "source": [
        "fit_predict(cat_model, X_train_pca, y_train, X_val_pca, y_valid)"
      ]
    },
    {
      "cell_type": "markdown",
      "metadata": {
        "id": "LG7yCbXPxluI"
      },
      "source": [
        "Метрики модели ухудшились,попробуем применить метод OneVsRestClassifier -  это один из методов решения задачи многоклассовой классификации при помощи бинарных классификаторов."
      ]
    },
    {
      "cell_type": "code",
      "execution_count": null,
      "metadata": {
        "id": "3BJsXJl1eRA9"
      },
      "outputs": [],
      "source": [
        "from sklearn.multiclass import OneVsRestClassifier"
      ]
    },
    {
      "cell_type": "code",
      "execution_count": null,
      "metadata": {
        "id": "5A7v4stxeNpY"
      },
      "outputs": [],
      "source": [
        "ovr_clf_model = OneVsRestClassifier(cat_model)"
      ]
    },
    {
      "cell_type": "code",
      "execution_count": null,
      "metadata": {
        "colab": {
          "background_save": true
        },
        "id": "LA-9tkTl2HBf",
        "outputId": "b1322dbe-d578-4200-a8fd-15be4ab9f73e"
      },
      "outputs": [
        {
          "name": "stdout",
          "output_type": "stream",
          "text": [
            "                            precision    recall  f1-score   support\n",
            "\n",
            "                    BENIGN       1.00      1.00      1.00     37250\n",
            "                       Bot       0.96      0.98      0.97       312\n",
            "                      DDoS       1.00      1.00      1.00     10298\n",
            "             DoS GoldenEye       1.00      1.00      1.00      1646\n",
            "                  DoS Hulk       1.00      1.00      1.00     13960\n",
            "          DoS Slowhttptest       1.00      0.99      1.00       837\n",
            "             DoS slowloris       1.00      1.00      1.00       862\n",
            "               FTP-Patator       1.00      1.00      1.00       949\n",
            "                Heartbleed       1.00      0.50      0.67         2\n",
            "              Infiltration       1.00      0.33      0.50         6\n",
            "                  PortScan       1.00      1.00      1.00      9024\n",
            "               SSH-Patator       1.00      1.00      1.00       515\n",
            "  Web Attack � Brute Force       0.74      0.80      0.77       235\n",
            "Web Attack � Sql Injection       0.67      0.67      0.67         3\n",
            "          Web Attack � XSS       0.44      0.34      0.38       104\n",
            "\n",
            "                  accuracy                           1.00     76003\n",
            "                 macro avg       0.92      0.84      0.86     76003\n",
            "              weighted avg       1.00      1.00      1.00     76003\n",
            "\n"
          ]
        }
      ],
      "source": [
        "fit_predict(ovr_clf_model, X_train_scaled, y_train, X_valid_scaled, y_valid)"
      ]
    },
    {
      "cell_type": "markdown",
      "metadata": {
        "id": "VlhCl0yz5KHe"
      },
      "source": [
        "К сожалению, метод OneVsRestClassifier  не принес результатов и метрика ухудшилась. Попробуем перебрать гиперпараметры модели с помощью optuna."
      ]
    },
    {
      "cell_type": "code",
      "execution_count": null,
      "metadata": {
        "colab": {
          "background_save": true
        },
        "id": "fuWO12t9Q9e3"
      },
      "outputs": [],
      "source": [
        "def objective(trial):\n",
        "    params = {\n",
        "        'iterations': trial.suggest_int('iterations', 100, 1000),\n",
        "        'depth': trial.suggest_int('depth', 4, 10),\n",
        "        'learning_rate': trial.suggest_float('learning_rate', 0.01, 0.1),\n",
        "        'l2_leaf_reg': trial.suggest_float('l2_leaf_reg', 1, 10),\n",
        "        'loss_function': 'MultiClass',\n",
        "        'task_type': 'GPU',\n",
        "        'verbose': False\n",
        "    }\n",
        "\n",
        "    clf = CatBoostClassifier(**params)\n",
        "\n",
        "    clf.fit(X_train_scaled, y_train, eval_set=(X_valid_scaled, y_valid))\n",
        "\n",
        "    return clf.score(X_valid_scaled, y_valid)\n",
        "\n",
        "#study = optuna.create_study(direction='maximize')\n",
        "#study.optimize(objective, n_trials=15)\n",
        "\n",
        "#best_params = study.best_params\n",
        "#print(\"Лучшие гиперпараметры:\", best_params)\n",
        "#best_score = study.best_value\n",
        "#print(f\"Лучшая оценка (точность): {best_score}\")"
      ]
    },
    {
      "cell_type": "markdown",
      "metadata": {
        "id": "FOEx3llNT-uC"
      },
      "source": []
    },
    {
      "cell_type": "markdown",
      "metadata": {
        "id": "tOvZ9d1pxshO"
      },
      "source": [
        "Собираем готовую модель:"
      ]
    },
    {
      "cell_type": "code",
      "execution_count": null,
      "metadata": {
        "colab": {
          "background_save": true
        },
        "id": "q7go5G9JxyAj"
      },
      "outputs": [],
      "source": [
        "best_model = CatBoostClassifier(n_estimators = 616, learning_rate = 0.06105725695364452,\n",
        "                               max_depth=10, l2_leaf_reg = 3.7793344722152806,\n",
        "                               loss_function='MultiClass',  task_type='GPU', verbose=False)"
      ]
    },
    {
      "cell_type": "markdown",
      "metadata": {
        "id": "ZnBD62fzyYEH"
      },
      "source": [
        "# Тестирование модели"
      ]
    },
    {
      "cell_type": "markdown",
      "metadata": {
        "id": "4nXE9VYIy8ly"
      },
      "source": [
        "X_test является не стандантизированным набором, выполним его стандартизацию:"
      ]
    },
    {
      "cell_type": "code",
      "execution_count": null,
      "metadata": {
        "colab": {
          "background_save": true
        },
        "id": "g_22MOGAzJYK"
      },
      "outputs": [],
      "source": [
        "# Cоздаем пайплайн\n",
        "pipeline = Pipeline([\n",
        "    ('scaler', StandardScaler()),  # Стандартизация данных\n",
        "    ('classifier', best_model)\n",
        "])"
      ]
    },
    {
      "cell_type": "code",
      "execution_count": null,
      "metadata": {
        "colab": {
          "background_save": true
        },
        "id": "VjL8_lBS4-PQ",
        "outputId": "32cd08bf-c5f1-4816-b950-0edfb43f3248"
      },
      "outputs": [
        {
          "data": {
            "text/html": [
              "<style>#sk-container-id-1 {color: black;background-color: white;}#sk-container-id-1 pre{padding: 0;}#sk-container-id-1 div.sk-toggleable {background-color: white;}#sk-container-id-1 label.sk-toggleable__label {cursor: pointer;display: block;width: 100%;margin-bottom: 0;padding: 0.3em;box-sizing: border-box;text-align: center;}#sk-container-id-1 label.sk-toggleable__label-arrow:before {content: \"▸\";float: left;margin-right: 0.25em;color: #696969;}#sk-container-id-1 label.sk-toggleable__label-arrow:hover:before {color: black;}#sk-container-id-1 div.sk-estimator:hover label.sk-toggleable__label-arrow:before {color: black;}#sk-container-id-1 div.sk-toggleable__content {max-height: 0;max-width: 0;overflow: hidden;text-align: left;background-color: #f0f8ff;}#sk-container-id-1 div.sk-toggleable__content pre {margin: 0.2em;color: black;border-radius: 0.25em;background-color: #f0f8ff;}#sk-container-id-1 input.sk-toggleable__control:checked~div.sk-toggleable__content {max-height: 200px;max-width: 100%;overflow: auto;}#sk-container-id-1 input.sk-toggleable__control:checked~label.sk-toggleable__label-arrow:before {content: \"▾\";}#sk-container-id-1 div.sk-estimator input.sk-toggleable__control:checked~label.sk-toggleable__label {background-color: #d4ebff;}#sk-container-id-1 div.sk-label input.sk-toggleable__control:checked~label.sk-toggleable__label {background-color: #d4ebff;}#sk-container-id-1 input.sk-hidden--visually {border: 0;clip: rect(1px 1px 1px 1px);clip: rect(1px, 1px, 1px, 1px);height: 1px;margin: -1px;overflow: hidden;padding: 0;position: absolute;width: 1px;}#sk-container-id-1 div.sk-estimator {font-family: monospace;background-color: #f0f8ff;border: 1px dotted black;border-radius: 0.25em;box-sizing: border-box;margin-bottom: 0.5em;}#sk-container-id-1 div.sk-estimator:hover {background-color: #d4ebff;}#sk-container-id-1 div.sk-parallel-item::after {content: \"\";width: 100%;border-bottom: 1px solid gray;flex-grow: 1;}#sk-container-id-1 div.sk-label:hover label.sk-toggleable__label {background-color: #d4ebff;}#sk-container-id-1 div.sk-serial::before {content: \"\";position: absolute;border-left: 1px solid gray;box-sizing: border-box;top: 0;bottom: 0;left: 50%;z-index: 0;}#sk-container-id-1 div.sk-serial {display: flex;flex-direction: column;align-items: center;background-color: white;padding-right: 0.2em;padding-left: 0.2em;position: relative;}#sk-container-id-1 div.sk-item {position: relative;z-index: 1;}#sk-container-id-1 div.sk-parallel {display: flex;align-items: stretch;justify-content: center;background-color: white;position: relative;}#sk-container-id-1 div.sk-item::before, #sk-container-id-1 div.sk-parallel-item::before {content: \"\";position: absolute;border-left: 1px solid gray;box-sizing: border-box;top: 0;bottom: 0;left: 50%;z-index: -1;}#sk-container-id-1 div.sk-parallel-item {display: flex;flex-direction: column;z-index: 1;position: relative;background-color: white;}#sk-container-id-1 div.sk-parallel-item:first-child::after {align-self: flex-end;width: 50%;}#sk-container-id-1 div.sk-parallel-item:last-child::after {align-self: flex-start;width: 50%;}#sk-container-id-1 div.sk-parallel-item:only-child::after {width: 0;}#sk-container-id-1 div.sk-dashed-wrapped {border: 1px dashed gray;margin: 0 0.4em 0.5em 0.4em;box-sizing: border-box;padding-bottom: 0.4em;background-color: white;}#sk-container-id-1 div.sk-label label {font-family: monospace;font-weight: bold;display: inline-block;line-height: 1.2em;}#sk-container-id-1 div.sk-label-container {text-align: center;}#sk-container-id-1 div.sk-container {/* jupyter's `normalize.less` sets `[hidden] { display: none; }` but bootstrap.min.css set `[hidden] { display: none !important; }` so we also need the `!important` here to be able to override the default hidden behavior on the sphinx rendered scikit-learn.org. See: https://github.com/scikit-learn/scikit-learn/issues/21755 */display: inline-block !important;position: relative;}#sk-container-id-1 div.sk-text-repr-fallback {display: none;}</style><div id=\"sk-container-id-1\" class=\"sk-top-container\"><div class=\"sk-text-repr-fallback\"><pre>Pipeline(steps=[(&#x27;scaler&#x27;, StandardScaler()),\n",
              "                (&#x27;classifier&#x27;,\n",
              "                 &lt;catboost.core.CatBoostClassifier object at 0x7d3f6db95b10&gt;)])</pre><b>In a Jupyter environment, please rerun this cell to show the HTML representation or trust the notebook. <br />On GitHub, the HTML representation is unable to render, please try loading this page with nbviewer.org.</b></div><div class=\"sk-container\" hidden><div class=\"sk-item sk-dashed-wrapped\"><div class=\"sk-label-container\"><div class=\"sk-label sk-toggleable\"><input class=\"sk-toggleable__control sk-hidden--visually\" id=\"sk-estimator-id-1\" type=\"checkbox\" ><label for=\"sk-estimator-id-1\" class=\"sk-toggleable__label sk-toggleable__label-arrow\">Pipeline</label><div class=\"sk-toggleable__content\"><pre>Pipeline(steps=[(&#x27;scaler&#x27;, StandardScaler()),\n",
              "                (&#x27;classifier&#x27;,\n",
              "                 &lt;catboost.core.CatBoostClassifier object at 0x7d3f6db95b10&gt;)])</pre></div></div></div><div class=\"sk-serial\"><div class=\"sk-item\"><div class=\"sk-estimator sk-toggleable\"><input class=\"sk-toggleable__control sk-hidden--visually\" id=\"sk-estimator-id-2\" type=\"checkbox\" ><label for=\"sk-estimator-id-2\" class=\"sk-toggleable__label sk-toggleable__label-arrow\">StandardScaler</label><div class=\"sk-toggleable__content\"><pre>StandardScaler()</pre></div></div></div><div class=\"sk-item\"><div class=\"sk-estimator sk-toggleable\"><input class=\"sk-toggleable__control sk-hidden--visually\" id=\"sk-estimator-id-3\" type=\"checkbox\" ><label for=\"sk-estimator-id-3\" class=\"sk-toggleable__label sk-toggleable__label-arrow\">CatBoostClassifier</label><div class=\"sk-toggleable__content\"><pre>&lt;catboost.core.CatBoostClassifier object at 0x7d3f6db95b10&gt;</pre></div></div></div></div></div></div></div>"
            ],
            "text/plain": [
              "Pipeline(steps=[('scaler', StandardScaler()),\n",
              "                ('classifier',\n",
              "                 <catboost.core.CatBoostClassifier object at 0x7d3f6db95b10>)])"
            ]
          },
          "execution_count": 48,
          "metadata": {},
          "output_type": "execute_result"
        }
      ],
      "source": [
        "pipeline.fit(X_train_val, y_train_val)"
      ]
    },
    {
      "cell_type": "code",
      "execution_count": null,
      "metadata": {
        "colab": {
          "background_save": true
        },
        "id": "xp-66hJR0OFQ"
      },
      "outputs": [],
      "source": [
        "y_pred = pipeline.predict(X_test)"
      ]
    },
    {
      "cell_type": "code",
      "execution_count": null,
      "metadata": {
        "colab": {
          "background_save": true
        },
        "id": "rWCWtOnI7eAU",
        "outputId": "84387c9f-cc51-4798-f3b8-4fcf9b35da79"
      },
      "outputs": [
        {
          "name": "stderr",
          "output_type": "stream",
          "text": [
            "/usr/local/lib/python3.10/dist-packages/sklearn/preprocessing/_label.py:155: DataConversionWarning: A column-vector y was passed when a 1d array was expected. Please change the shape of y to (n_samples, ), for example using ravel().\n",
            "  y = column_or_1d(y, warn=True)\n"
          ]
        }
      ],
      "source": [
        "y_pred_decoded = label_encoder.inverse_transform(y_pred)"
      ]
    },
    {
      "cell_type": "code",
      "execution_count": null,
      "metadata": {
        "colab": {
          "background_save": true
        },
        "id": "MKItJWD_7eAV"
      },
      "outputs": [],
      "source": [
        "y_test_decoded = label_encoder.inverse_transform(y_test)"
      ]
    },
    {
      "cell_type": "code",
      "execution_count": null,
      "metadata": {
        "colab": {
          "background_save": true
        },
        "id": "oILGkyBD7eAV",
        "outputId": "fd87faf3-d707-490c-e357-6d48f43b9408"
      },
      "outputs": [
        {
          "name": "stdout",
          "output_type": "stream",
          "text": [
            "Accuracy: 1.00\n",
            "                            precision    recall  f1-score   support\n",
            "\n",
            "                    BENIGN       1.00      1.00      1.00     46562\n",
            "                       Bot       0.94      0.98      0.96       391\n",
            "                      DDoS       1.00      1.00      1.00     12873\n",
            "             DoS GoldenEye       1.00      1.00      1.00      2057\n",
            "                  DoS Hulk       1.00      1.00      1.00     17450\n",
            "          DoS Slowhttptest       1.00      1.00      1.00      1046\n",
            "             DoS slowloris       1.00      0.99      1.00      1077\n",
            "               FTP-Patator       1.00      1.00      1.00      1187\n",
            "                Heartbleed       1.00      1.00      1.00         2\n",
            "              Infiltration       1.00      0.57      0.73         7\n",
            "                  PortScan       1.00      1.00      1.00     11279\n",
            "               SSH-Patator       1.00      1.00      1.00       644\n",
            "  Web Attack � Brute Force       0.72      0.91      0.80       294\n",
            "Web Attack � Sql Injection       1.00      1.00      1.00         4\n",
            "          Web Attack � XSS       0.48      0.19      0.27       130\n",
            "\n",
            "                  accuracy                           1.00     95003\n",
            "                 macro avg       0.94      0.91      0.92     95003\n",
            "              weighted avg       1.00      1.00      1.00     95003\n",
            "\n"
          ]
        }
      ],
      "source": [
        "accuracy = accuracy_score(y_test_decoded, y_pred_decoded)\n",
        "print(f'Accuracy: {accuracy:.2f}')\n",
        "\n",
        "print(classification_report(y_test_decoded, y_pred_decoded))"
      ]
    },
    {
      "cell_type": "markdown",
      "metadata": {
        "id": "MeX5RszulX-Y"
      },
      "source": [
        "Матрица ошибок:"
      ]
    },
    {
      "cell_type": "code",
      "execution_count": null,
      "metadata": {
        "colab": {
          "background_save": true
        },
        "id": "8wVr55yalLpS",
        "outputId": "9faf057d-227c-4f81-a803-2a42b4d8cb61"
      },
      "outputs": [
        {
          "data": {
            "image/png": "[encoded data removed]",
            "text/plain": [
              "<Figure size 640x480 with 2 Axes>"
            ]
          },
          "metadata": {},
          "output_type": "display_data"
        }
      ],
      "source": [
        "confusion = confusion_matrix(y_test_decoded, y_pred_decoded)\n",
        "disp = ConfusionMatrixDisplay(confusion_matrix=confusion)\n",
        "disp.plot(cmap=plt.cm.Blues)\n",
        "plt.title('Confusion Matrix')\n",
        "plt.show()"
      ]
    },
    {
      "cell_type": "markdown",
      "metadata": {
        "id": "F5ffiPl7qf2H"
      },
      "source": [
        "Удалось улучшить метрики практически по всем классам, в базовой модели некоторые классы не могли быть определены, после выбора бустинговой модели и с учетом подбора гиперпараметров удалось определить все классы, но Web Attack � XSS  всё еще плохо определяется, из 130 экземпляров только 25 определено верно, 104 экземпляра определены как Web Attack � Brute Force, а 1 экземпляру присвоен лейбл нормального класса. Ошибка первого рода - когда угроза признана нормальным трафиком - встречается давольно часто, это оносится к следующим классам - Bot (7 экземпляров), DDoS (4 экземпляра), DoS GoldenEye (2 экземпляра), DoS Slowhttptest (2 экземпляра), Infiltration (3 экземпляра), SSH-Patator (3 экземпляра), Web Attack � Brute Force (1 экземпляр), и Web Attack � XSS (1 экземпляр).  "
      ]
    },
    {
      "cell_type": "markdown",
      "metadata": {
        "id": "rocK7xOHl6TQ"
      },
      "source": [
        "# Отчет по проекту:"
      ]
    },
    {
      "cell_type": "markdown",
      "metadata": {
        "id": "ZMdllHj2uunV"
      },
      "source": [
        "*Задача проекта* - разработать модель, которая будет классифицировать трафик на нормальный и злонамеренный, включая следующие типы атак: DDoS, SQL-инъекции, брутфорс, вредоносные программы и т.д.\n",
        "\n",
        "В ходе проекта данные были загружены и исследованы. В датафрейме оказалось 78 признаков и 15 разновидностей трафика. Объем данных для исследования на мультиколленеарность и аномалии оказался слишком велик, при этом всего две компанеты оправдывают 90% дисперсии в данных.\n",
        "\n",
        "В ходе работы над проектом была *проведена первичная предобработка данных*:\n",
        "- обнаружены бесконечные значения и заменены на Nan\n",
        "- пропуски в данных, в том числе замененные бесконечные значения заполняем автоматически с помощью SimpleImputer(strategy='median')\n",
        "- все признаки в датасете числовые, выполняем стандартизацию StandardScaler()\n",
        "\n",
        "*Исследованы три модели*:\n",
        "- в качестве базовой модели была выбрана простая логистическа регрессия, модель определила верно 96% трафика.\n",
        "- также попробованы более сложные модели - бустинговые: XGBClassifier, CatBoostClassifier (точность моделей - 1,00) и LGBMClassifier (точность модели - 0,68).\n",
        "В итоге была выбрана модель - CatBoostClassifier. Проведены эксперементы с уменьшением размерности данных (PCA) и с изменением задачи на бинарную классификацию для каждого класса с помощью OneVsRestClassifier. К сожалению результат улучшить не удалось, оценочные метрики упали.\n",
        "\n",
        "*Модель была улучшена с помощью подбора гиперпараметров*:\n",
        "\n",
        "**best_model =  CatBoostClassifier(n_estimators = 616, learning_rate = 0.06105725695364452, max_depth=10, l2_leaf_reg = 3.7793344722152806,loss_function='MultiClass',  task_type='GPU', verbose=False)**\n",
        "\n",
        "В итоге точность модели составила 0,994. Ошибка первого рода - угроза признана нормальным трафиком - встречается давольно часто, это оносится к следующим классам - Bot (7 экземпляров), DDoS (4 экземпляра), DoS GoldenEye (2 экземпляра), DoS Slowhttptest (2 экземпляра), Infiltration (3 экземпляра), SSH-Patator (3 экземпляра), Web Attack � Brute Force (1 экземпляр), и Web Attack � XSS (1 экземпляр).  \n",
        "\n",
        "**В результате работы были получены следующие файлы:**"
      ]
    },
    {
      "cell_type": "code",
      "execution_count": null,
      "metadata": {
        "colab": {
          "background_save": true
        },
        "id": "HG4UoxcPl91f"
      },
      "outputs": [],
      "source": [
        "# Модель\n",
        "with open('model_for_web_attack.pkl', 'wb') as model_file:\n",
        "    pickle.dump(best_model, model_file)\n",
        "\n",
        "# Энкодер\n",
        "with open('encoder_for_web_attack.pkl', 'wb') as encoder_file:\n",
        "    pickle.dump(label_encoder, encoder_file)"
      ]
    },
    {
      "cell_type": "markdown",
      "metadata": {
        "id": "CpUSM7Du3kFw"
      },
      "source": [
        "**Полный пайплайн для обработки новых входящих данных:**\n",
        "\n",
        "- создаем пайплайн для предобработки данных"
      ]
    },
    {
      "cell_type": "code",
      "execution_count": null,
      "metadata": {
        "colab": {
          "background_save": true
        },
        "id": "Ho63aTUR3dLQ"
      },
      "outputs": [],
      "source": [
        "pipeline = Pipeline([\n",
        "    ('replace_inf', FunctionTransformer(lambda X: np.where(np.isinf(X), np.nan, X))),  # Замена бесконечных значений на NaN\n",
        "    ('scaler', StandardScaler()),  # Стандартизация данных\n",
        "    ('imputer', SimpleImputer(strategy='median'))  # Обработка пропусков с помощью медианных значений\n",
        "])"
      ]
    },
    {
      "cell_type": "markdown",
      "metadata": {
        "id": "UhTmtUFs7MN-"
      },
      "source": [
        "- преобразования новых данных\n",
        "\n",
        "new_data_processed = pipeline.fit_transform(new_data)\n",
        "\n",
        "- применение обученной модели\n",
        "\n",
        "predictions = best_model.predict(new_data_processed)"
      ]
    }
  ],
  "metadata": {
    "accelerator": "GPU",
    "colab": {
      "toc_visible": true,
      "provenance": []
    },
    "kernelspec": {
      "display_name": "Python 3",
      "name": "python3"
    },
    "language_info": {
      "name": "python"
    }
  },
  "nbformat": 4,
  "nbformat_minor": 0
}